{
 "cells": [
  {
   "cell_type": "markdown",
   "metadata": {},
   "source": [
    "# Amazon Fine Food Reviews Analysis\n",
    "\n",
    "\n",
    "Data Source: https://www.kaggle.com/snap/amazon-fine-food-reviews <br>\n",
    "\n",
    "EDA: https://nycdatascience.com/blog/student-works/amazon-fine-foods-visualization/\n",
    "\n",
    "\n",
    "The Amazon Fine Food Reviews dataset consists of reviews of fine foods from Amazon.<br>\n",
    "\n",
    "Number of reviews: 568,454<br>\n",
    "Number of users: 256,059<br>\n",
    "Number of products: 74,258<br>\n",
    "Timespan: Oct 1999 - Oct 2012<br>\n",
    "Number of Attributes/Columns in data: 10 \n",
    "\n",
    "Attribute Information:\n",
    "\n",
    "1. Id\n",
    "2. ProductId - unique identifier for the product\n",
    "3. UserId - unqiue identifier for the user\n",
    "4. ProfileName\n",
    "5. HelpfulnessNumerator - number of users who found the review helpful\n",
    "6. HelpfulnessDenominator - number of users who indicated whether they found the review helpful or not\n",
    "7. Score - rating between 1 and 5\n",
    "8. Time - timestamp for the review\n",
    "9. Summary - brief summary of the review\n",
    "10. Text - text of the review\n",
    "\n",
    "\n",
    "#### Objective:\n",
    "Given a review, determine whether the review is positive (rating of 4 or 5) or negative (rating of 1 or 2).\n",
    "\n",
    "<br>\n",
    "[Q] How to determine if a review is positive or negative?<br>\n",
    "<br> \n",
    "[Ans] We could use Score/Rating. A rating of 4 or 5 can be cosnidered as a positive review. A rating of 1 or 2 can be considered as negative one. A review of rating 3 is considered nuetral and such reviews are ignored from our analysis. This is an approximate and proxy way of determining the polarity (positivity/negativity) of a review.\n",
    "\n",
    "\n"
   ]
  },
  {
   "cell_type": "markdown",
   "metadata": {},
   "source": [
    "# [1]. Reading Data"
   ]
  },
  {
   "cell_type": "markdown",
   "metadata": {},
   "source": [
    "## [1.1] Loading the data\n",
    "\n",
    "The dataset is available in two forms\n",
    "1. .csv file\n",
    "2. SQLite Database\n",
    "\n",
    "In order to load the data, We have used the SQLITE dataset as it is easier to query the data and visualise the data efficiently.\n",
    "<br> \n",
    "\n",
    "Here as we only want to get the global sentiment of the recommendations (positive or negative), we will purposefully ignore all Scores equal to 3. If the score is above 3, then the recommendation wil be set to \"positive\". Otherwise, it will be set to \"negative\"."
   ]
  },
  {
   "cell_type": "code",
   "execution_count": 1,
   "metadata": {},
   "outputs": [],
   "source": [
    "%matplotlib inline\n",
    "import warnings\n",
    "warnings.filterwarnings(\"ignore\")\n",
    "\n",
    "\n",
    "import sqlite3\n",
    "import pandas as pd\n",
    "import numpy as np\n",
    "import nltk\n",
    "import string\n",
    "import matplotlib.pyplot as plt\n",
    "import seaborn as sns\n",
    "from sklearn.feature_extraction.text import TfidfTransformer\n",
    "from sklearn.feature_extraction.text import TfidfVectorizer\n",
    "\n",
    "from sklearn.feature_extraction.text import CountVectorizer\n",
    "from sklearn.metrics import confusion_matrix\n",
    "from sklearn import metrics\n",
    "from sklearn.metrics import roc_curve, auc\n",
    "from nltk.stem.porter import PorterStemmer\n",
    "\n",
    "import re\n",
    "# Tutorial about Python regular expressions: https://pymotw.com/2/re/\n",
    "import string\n",
    "from nltk.corpus import stopwords\n",
    "from nltk.stem import PorterStemmer\n",
    "from nltk.stem.wordnet import WordNetLemmatizer\n",
    "\n",
    "from gensim.models import Word2Vec\n",
    "from gensim.models import KeyedVectors\n",
    "import pickle\n",
    "\n",
    "from tqdm import tqdm\n",
    "import os"
   ]
  },
  {
   "cell_type": "markdown",
   "metadata": {},
   "source": [
    "## Reading the data from SQLITE\n",
    "1. We are going to classify our data using the attribute \"SCORE\" from our dataframe\n",
    "2. SCORE > 3 is classified as Positive review, SCORE < 3 is classified as Negative review\n",
    "3. Since SCORE = 3 is Neutral, we will not consider those reviews in our classiication"
   ]
  },
  {
   "cell_type": "code",
   "execution_count": 2,
   "metadata": {},
   "outputs": [
    {
     "name": "stdout",
     "output_type": "stream",
     "text": [
      "Number of data points in our data (525814, 10)\n"
     ]
    },
    {
     "data": {
      "text/html": [
       "<div>\n",
       "<style scoped>\n",
       "    .dataframe tbody tr th:only-of-type {\n",
       "        vertical-align: middle;\n",
       "    }\n",
       "\n",
       "    .dataframe tbody tr th {\n",
       "        vertical-align: top;\n",
       "    }\n",
       "\n",
       "    .dataframe thead th {\n",
       "        text-align: right;\n",
       "    }\n",
       "</style>\n",
       "<table border=\"1\" class=\"dataframe\">\n",
       "  <thead>\n",
       "    <tr style=\"text-align: right;\">\n",
       "      <th></th>\n",
       "      <th>Id</th>\n",
       "      <th>ProductId</th>\n",
       "      <th>UserId</th>\n",
       "      <th>ProfileName</th>\n",
       "      <th>HelpfulnessNumerator</th>\n",
       "      <th>HelpfulnessDenominator</th>\n",
       "      <th>Score</th>\n",
       "      <th>Time</th>\n",
       "      <th>Summary</th>\n",
       "      <th>Text</th>\n",
       "    </tr>\n",
       "  </thead>\n",
       "  <tbody>\n",
       "    <tr>\n",
       "      <th>0</th>\n",
       "      <td>1</td>\n",
       "      <td>B001E4KFG0</td>\n",
       "      <td>A3SGXH7AUHU8GW</td>\n",
       "      <td>delmartian</td>\n",
       "      <td>1</td>\n",
       "      <td>1</td>\n",
       "      <td>1</td>\n",
       "      <td>1303862400</td>\n",
       "      <td>Good Quality Dog Food</td>\n",
       "      <td>I have bought several of the Vitality canned d...</td>\n",
       "    </tr>\n",
       "    <tr>\n",
       "      <th>1</th>\n",
       "      <td>2</td>\n",
       "      <td>B00813GRG4</td>\n",
       "      <td>A1D87F6ZCVE5NK</td>\n",
       "      <td>dll pa</td>\n",
       "      <td>0</td>\n",
       "      <td>0</td>\n",
       "      <td>0</td>\n",
       "      <td>1346976000</td>\n",
       "      <td>Not as Advertised</td>\n",
       "      <td>Product arrived labeled as Jumbo Salted Peanut...</td>\n",
       "    </tr>\n",
       "    <tr>\n",
       "      <th>2</th>\n",
       "      <td>3</td>\n",
       "      <td>B000LQOCH0</td>\n",
       "      <td>ABXLMWJIXXAIN</td>\n",
       "      <td>Natalia Corres \"Natalia Corres\"</td>\n",
       "      <td>1</td>\n",
       "      <td>1</td>\n",
       "      <td>1</td>\n",
       "      <td>1219017600</td>\n",
       "      <td>\"Delight\" says it all</td>\n",
       "      <td>This is a confection that has been around a fe...</td>\n",
       "    </tr>\n",
       "  </tbody>\n",
       "</table>\n",
       "</div>"
      ],
      "text/plain": [
       "   Id   ProductId          UserId                      ProfileName  \\\n",
       "0   1  B001E4KFG0  A3SGXH7AUHU8GW                       delmartian   \n",
       "1   2  B00813GRG4  A1D87F6ZCVE5NK                           dll pa   \n",
       "2   3  B000LQOCH0   ABXLMWJIXXAIN  Natalia Corres \"Natalia Corres\"   \n",
       "\n",
       "   HelpfulnessNumerator  HelpfulnessDenominator  Score        Time  \\\n",
       "0                     1                       1      1  1303862400   \n",
       "1                     0                       0      0  1346976000   \n",
       "2                     1                       1      1  1219017600   \n",
       "\n",
       "                 Summary                                               Text  \n",
       "0  Good Quality Dog Food  I have bought several of the Vitality canned d...  \n",
       "1      Not as Advertised  Product arrived labeled as Jumbo Salted Peanut...  \n",
       "2  \"Delight\" says it all  This is a confection that has been around a fe...  "
      ]
     },
     "execution_count": 2,
     "metadata": {},
     "output_type": "execute_result"
    }
   ],
   "source": [
    "# using SQLite Table to read data.\n",
    "con = sqlite3.connect('database.sqlite') \n",
    "\n",
    "# filtering only positive and negative reviews i.e. \n",
    "# not taking into consideration those reviews with Score=3\n",
    "# SELECT * FROM Reviews WHERE Score != 3 LIMIT 500000, will give top 500000 data points\n",
    "# you can change the number to any other number based on your computing power\n",
    "\n",
    "# filtered_data = pd.read_sql_query(\"\"\" SELECT * FROM Reviews WHERE Score != 3 LIMIT 500000\"\"\", con) \n",
    "\n",
    "\n",
    "filtered_data = pd.read_sql_query(\"\"\" SELECT * FROM Reviews WHERE Score != 3 \"\"\", con) \n",
    "\n",
    "# Give reviews with Score>3 a positive rating(1), and reviews with a score<3 a negative rating(0).\n",
    "def partition(x):\n",
    "    if x < 3:\n",
    "        return 0\n",
    "    return 1\n",
    "\n",
    "#changing reviews with score less than 3 to be positive and vice-versa\n",
    "actualScore = filtered_data['Score']\n",
    "positiveNegative = actualScore.map(partition) \n",
    "filtered_data['Score'] = positiveNegative\n",
    "print(\"Number of data points in our data\", filtered_data.shape)\n",
    "filtered_data.head(3)"
   ]
  },
  {
   "cell_type": "code",
   "execution_count": 3,
   "metadata": {},
   "outputs": [],
   "source": [
    "display = pd.read_sql_query(\"\"\"\n",
    "SELECT UserId, ProductId, ProfileName, Time, Score, Text, COUNT(*)\n",
    "FROM Reviews\n",
    "GROUP BY UserId\n",
    "HAVING COUNT(*)>1\n",
    "\"\"\", con)"
   ]
  },
  {
   "cell_type": "code",
   "execution_count": 4,
   "metadata": {
    "scrolled": true
   },
   "outputs": [
    {
     "name": "stdout",
     "output_type": "stream",
     "text": [
      "(80668, 7)\n"
     ]
    },
    {
     "data": {
      "text/html": [
       "<div>\n",
       "<style scoped>\n",
       "    .dataframe tbody tr th:only-of-type {\n",
       "        vertical-align: middle;\n",
       "    }\n",
       "\n",
       "    .dataframe tbody tr th {\n",
       "        vertical-align: top;\n",
       "    }\n",
       "\n",
       "    .dataframe thead th {\n",
       "        text-align: right;\n",
       "    }\n",
       "</style>\n",
       "<table border=\"1\" class=\"dataframe\">\n",
       "  <thead>\n",
       "    <tr style=\"text-align: right;\">\n",
       "      <th></th>\n",
       "      <th>UserId</th>\n",
       "      <th>ProductId</th>\n",
       "      <th>ProfileName</th>\n",
       "      <th>Time</th>\n",
       "      <th>Score</th>\n",
       "      <th>Text</th>\n",
       "      <th>COUNT(*)</th>\n",
       "    </tr>\n",
       "  </thead>\n",
       "  <tbody>\n",
       "    <tr>\n",
       "      <th>0</th>\n",
       "      <td>#oc-R115TNMSPFT9I7</td>\n",
       "      <td>B007Y59HVM</td>\n",
       "      <td>Breyton</td>\n",
       "      <td>1331510400</td>\n",
       "      <td>2</td>\n",
       "      <td>Overall its just OK when considering the price...</td>\n",
       "      <td>2</td>\n",
       "    </tr>\n",
       "    <tr>\n",
       "      <th>1</th>\n",
       "      <td>#oc-R11D9D7SHXIJB9</td>\n",
       "      <td>B005HG9ET0</td>\n",
       "      <td>Louis E. Emory \"hoppy\"</td>\n",
       "      <td>1342396800</td>\n",
       "      <td>5</td>\n",
       "      <td>My wife has recurring extreme muscle spasms, u...</td>\n",
       "      <td>3</td>\n",
       "    </tr>\n",
       "    <tr>\n",
       "      <th>2</th>\n",
       "      <td>#oc-R11DNU2NBKQ23Z</td>\n",
       "      <td>B007Y59HVM</td>\n",
       "      <td>Kim Cieszykowski</td>\n",
       "      <td>1348531200</td>\n",
       "      <td>1</td>\n",
       "      <td>This coffee is horrible and unfortunately not ...</td>\n",
       "      <td>2</td>\n",
       "    </tr>\n",
       "    <tr>\n",
       "      <th>3</th>\n",
       "      <td>#oc-R11O5J5ZVQE25C</td>\n",
       "      <td>B005HG9ET0</td>\n",
       "      <td>Penguin Chick</td>\n",
       "      <td>1346889600</td>\n",
       "      <td>5</td>\n",
       "      <td>This will be the bottle that you grab from the...</td>\n",
       "      <td>3</td>\n",
       "    </tr>\n",
       "    <tr>\n",
       "      <th>4</th>\n",
       "      <td>#oc-R12KPBODL2B5ZD</td>\n",
       "      <td>B007OSBE1U</td>\n",
       "      <td>Christopher P. Presta</td>\n",
       "      <td>1348617600</td>\n",
       "      <td>1</td>\n",
       "      <td>I didnt like this coffee. Instead of telling y...</td>\n",
       "      <td>2</td>\n",
       "    </tr>\n",
       "  </tbody>\n",
       "</table>\n",
       "</div>"
      ],
      "text/plain": [
       "               UserId   ProductId             ProfileName        Time  Score  \\\n",
       "0  #oc-R115TNMSPFT9I7  B007Y59HVM                 Breyton  1331510400      2   \n",
       "1  #oc-R11D9D7SHXIJB9  B005HG9ET0  Louis E. Emory \"hoppy\"  1342396800      5   \n",
       "2  #oc-R11DNU2NBKQ23Z  B007Y59HVM        Kim Cieszykowski  1348531200      1   \n",
       "3  #oc-R11O5J5ZVQE25C  B005HG9ET0           Penguin Chick  1346889600      5   \n",
       "4  #oc-R12KPBODL2B5ZD  B007OSBE1U   Christopher P. Presta  1348617600      1   \n",
       "\n",
       "                                                Text  COUNT(*)  \n",
       "0  Overall its just OK when considering the price...         2  \n",
       "1  My wife has recurring extreme muscle spasms, u...         3  \n",
       "2  This coffee is horrible and unfortunately not ...         2  \n",
       "3  This will be the bottle that you grab from the...         3  \n",
       "4  I didnt like this coffee. Instead of telling y...         2  "
      ]
     },
     "execution_count": 4,
     "metadata": {},
     "output_type": "execute_result"
    }
   ],
   "source": [
    "print(display.shape)\n",
    "display.head()"
   ]
  },
  {
   "cell_type": "code",
   "execution_count": 5,
   "metadata": {},
   "outputs": [
    {
     "data": {
      "text/html": [
       "<div>\n",
       "<style scoped>\n",
       "    .dataframe tbody tr th:only-of-type {\n",
       "        vertical-align: middle;\n",
       "    }\n",
       "\n",
       "    .dataframe tbody tr th {\n",
       "        vertical-align: top;\n",
       "    }\n",
       "\n",
       "    .dataframe thead th {\n",
       "        text-align: right;\n",
       "    }\n",
       "</style>\n",
       "<table border=\"1\" class=\"dataframe\">\n",
       "  <thead>\n",
       "    <tr style=\"text-align: right;\">\n",
       "      <th></th>\n",
       "      <th>UserId</th>\n",
       "      <th>ProductId</th>\n",
       "      <th>ProfileName</th>\n",
       "      <th>Time</th>\n",
       "      <th>Score</th>\n",
       "      <th>Text</th>\n",
       "      <th>COUNT(*)</th>\n",
       "    </tr>\n",
       "  </thead>\n",
       "  <tbody>\n",
       "    <tr>\n",
       "      <th>80638</th>\n",
       "      <td>AZY10LLTJ71NX</td>\n",
       "      <td>B006P7E5ZI</td>\n",
       "      <td>undertheshrine \"undertheshrine\"</td>\n",
       "      <td>1334707200</td>\n",
       "      <td>5</td>\n",
       "      <td>I was recommended to try green tea extract to ...</td>\n",
       "      <td>5</td>\n",
       "    </tr>\n",
       "  </tbody>\n",
       "</table>\n",
       "</div>"
      ],
      "text/plain": [
       "              UserId   ProductId                      ProfileName        Time  \\\n",
       "80638  AZY10LLTJ71NX  B006P7E5ZI  undertheshrine \"undertheshrine\"  1334707200   \n",
       "\n",
       "       Score                                               Text  COUNT(*)  \n",
       "80638      5  I was recommended to try green tea extract to ...         5  "
      ]
     },
     "execution_count": 5,
     "metadata": {},
     "output_type": "execute_result"
    }
   ],
   "source": [
    "display[display['UserId']=='AZY10LLTJ71NX']"
   ]
  },
  {
   "cell_type": "code",
   "execution_count": 6,
   "metadata": {},
   "outputs": [
    {
     "data": {
      "text/plain": [
       "393063"
      ]
     },
     "execution_count": 6,
     "metadata": {},
     "output_type": "execute_result"
    }
   ],
   "source": [
    "display['COUNT(*)'].sum()"
   ]
  },
  {
   "cell_type": "markdown",
   "metadata": {},
   "source": [
    "#  [2] Exploratory Data Analysis"
   ]
  },
  {
   "cell_type": "markdown",
   "metadata": {},
   "source": [
    "## [2.1] Data Cleaning: Deduplication\n",
    "\n",
    "It is observed (as shown in the table below) that the reviews data had many duplicate entries. Hence it was necessary to remove duplicates in order to get unbiased results for the analysis of the data.  Following is an example:"
   ]
  },
  {
   "cell_type": "code",
   "execution_count": 7,
   "metadata": {
    "scrolled": false
   },
   "outputs": [
    {
     "data": {
      "text/html": [
       "<div>\n",
       "<style scoped>\n",
       "    .dataframe tbody tr th:only-of-type {\n",
       "        vertical-align: middle;\n",
       "    }\n",
       "\n",
       "    .dataframe tbody tr th {\n",
       "        vertical-align: top;\n",
       "    }\n",
       "\n",
       "    .dataframe thead th {\n",
       "        text-align: right;\n",
       "    }\n",
       "</style>\n",
       "<table border=\"1\" class=\"dataframe\">\n",
       "  <thead>\n",
       "    <tr style=\"text-align: right;\">\n",
       "      <th></th>\n",
       "      <th>Id</th>\n",
       "      <th>ProductId</th>\n",
       "      <th>UserId</th>\n",
       "      <th>ProfileName</th>\n",
       "      <th>HelpfulnessNumerator</th>\n",
       "      <th>HelpfulnessDenominator</th>\n",
       "      <th>Score</th>\n",
       "      <th>Time</th>\n",
       "      <th>Summary</th>\n",
       "      <th>Text</th>\n",
       "    </tr>\n",
       "  </thead>\n",
       "  <tbody>\n",
       "    <tr>\n",
       "      <th>0</th>\n",
       "      <td>78445</td>\n",
       "      <td>B000HDL1RQ</td>\n",
       "      <td>AR5J8UI46CURR</td>\n",
       "      <td>Geetha Krishnan</td>\n",
       "      <td>2</td>\n",
       "      <td>2</td>\n",
       "      <td>5</td>\n",
       "      <td>1199577600</td>\n",
       "      <td>LOACKER QUADRATINI VANILLA WAFERS</td>\n",
       "      <td>DELICIOUS WAFERS. I FIND THAT EUROPEAN WAFERS ...</td>\n",
       "    </tr>\n",
       "    <tr>\n",
       "      <th>1</th>\n",
       "      <td>138317</td>\n",
       "      <td>B000HDOPYC</td>\n",
       "      <td>AR5J8UI46CURR</td>\n",
       "      <td>Geetha Krishnan</td>\n",
       "      <td>2</td>\n",
       "      <td>2</td>\n",
       "      <td>5</td>\n",
       "      <td>1199577600</td>\n",
       "      <td>LOACKER QUADRATINI VANILLA WAFERS</td>\n",
       "      <td>DELICIOUS WAFERS. I FIND THAT EUROPEAN WAFERS ...</td>\n",
       "    </tr>\n",
       "    <tr>\n",
       "      <th>2</th>\n",
       "      <td>138277</td>\n",
       "      <td>B000HDOPYM</td>\n",
       "      <td>AR5J8UI46CURR</td>\n",
       "      <td>Geetha Krishnan</td>\n",
       "      <td>2</td>\n",
       "      <td>2</td>\n",
       "      <td>5</td>\n",
       "      <td>1199577600</td>\n",
       "      <td>LOACKER QUADRATINI VANILLA WAFERS</td>\n",
       "      <td>DELICIOUS WAFERS. I FIND THAT EUROPEAN WAFERS ...</td>\n",
       "    </tr>\n",
       "    <tr>\n",
       "      <th>3</th>\n",
       "      <td>73791</td>\n",
       "      <td>B000HDOPZG</td>\n",
       "      <td>AR5J8UI46CURR</td>\n",
       "      <td>Geetha Krishnan</td>\n",
       "      <td>2</td>\n",
       "      <td>2</td>\n",
       "      <td>5</td>\n",
       "      <td>1199577600</td>\n",
       "      <td>LOACKER QUADRATINI VANILLA WAFERS</td>\n",
       "      <td>DELICIOUS WAFERS. I FIND THAT EUROPEAN WAFERS ...</td>\n",
       "    </tr>\n",
       "    <tr>\n",
       "      <th>4</th>\n",
       "      <td>155049</td>\n",
       "      <td>B000PAQ75C</td>\n",
       "      <td>AR5J8UI46CURR</td>\n",
       "      <td>Geetha Krishnan</td>\n",
       "      <td>2</td>\n",
       "      <td>2</td>\n",
       "      <td>5</td>\n",
       "      <td>1199577600</td>\n",
       "      <td>LOACKER QUADRATINI VANILLA WAFERS</td>\n",
       "      <td>DELICIOUS WAFERS. I FIND THAT EUROPEAN WAFERS ...</td>\n",
       "    </tr>\n",
       "  </tbody>\n",
       "</table>\n",
       "</div>"
      ],
      "text/plain": [
       "       Id   ProductId         UserId      ProfileName  HelpfulnessNumerator  \\\n",
       "0   78445  B000HDL1RQ  AR5J8UI46CURR  Geetha Krishnan                     2   \n",
       "1  138317  B000HDOPYC  AR5J8UI46CURR  Geetha Krishnan                     2   \n",
       "2  138277  B000HDOPYM  AR5J8UI46CURR  Geetha Krishnan                     2   \n",
       "3   73791  B000HDOPZG  AR5J8UI46CURR  Geetha Krishnan                     2   \n",
       "4  155049  B000PAQ75C  AR5J8UI46CURR  Geetha Krishnan                     2   \n",
       "\n",
       "   HelpfulnessDenominator  Score        Time  \\\n",
       "0                       2      5  1199577600   \n",
       "1                       2      5  1199577600   \n",
       "2                       2      5  1199577600   \n",
       "3                       2      5  1199577600   \n",
       "4                       2      5  1199577600   \n",
       "\n",
       "                             Summary  \\\n",
       "0  LOACKER QUADRATINI VANILLA WAFERS   \n",
       "1  LOACKER QUADRATINI VANILLA WAFERS   \n",
       "2  LOACKER QUADRATINI VANILLA WAFERS   \n",
       "3  LOACKER QUADRATINI VANILLA WAFERS   \n",
       "4  LOACKER QUADRATINI VANILLA WAFERS   \n",
       "\n",
       "                                                Text  \n",
       "0  DELICIOUS WAFERS. I FIND THAT EUROPEAN WAFERS ...  \n",
       "1  DELICIOUS WAFERS. I FIND THAT EUROPEAN WAFERS ...  \n",
       "2  DELICIOUS WAFERS. I FIND THAT EUROPEAN WAFERS ...  \n",
       "3  DELICIOUS WAFERS. I FIND THAT EUROPEAN WAFERS ...  \n",
       "4  DELICIOUS WAFERS. I FIND THAT EUROPEAN WAFERS ...  "
      ]
     },
     "execution_count": 7,
     "metadata": {},
     "output_type": "execute_result"
    }
   ],
   "source": [
    "display= pd.read_sql_query(\"\"\"\n",
    "SELECT *\n",
    "FROM Reviews\n",
    "WHERE Score != 3 AND UserId=\"AR5J8UI46CURR\"\n",
    "ORDER BY ProductID\n",
    "\"\"\", con)\n",
    "display.head()"
   ]
  },
  {
   "cell_type": "markdown",
   "metadata": {},
   "source": [
    "As it can be seen above that same user has multiple reviews with same values for HelpfulnessNumerator, HelpfulnessDenominator, Score, Time, Summary and Text and on doing analysis it was found that <br>\n",
    "<br> \n",
    "ProductId=B000HDOPZG was Loacker Quadratini Vanilla Wafer Cookies, 8.82-Ounce Packages (Pack of 8)<br>\n",
    "<br> \n",
    "ProductId=B000HDL1RQ was Loacker Quadratini Lemon Wafer Cookies, 8.82-Ounce Packages (Pack of 8) and so on<br>\n",
    "\n",
    "It was inferred after analysis that reviews with same parameters other than ProductId belonged to the same product just having different flavour or quantity. Hence in order to reduce redundancy it was decided to eliminate the rows having same parameters.<br>\n",
    "\n",
    "The method used for the same was that we first sort the data according to ProductId and then just keep the first similar product review and delelte the others. for eg. in the above just the review for ProductId=B000HDL1RQ remains. This method ensures that there is only one representative for each product and deduplication without sorting would lead to possibility of different representatives still existing for the same product."
   ]
  },
  {
   "cell_type": "code",
   "execution_count": 8,
   "metadata": {},
   "outputs": [],
   "source": [
    "#Sorting data according to ProductId in ascending order\n",
    "sorted_data=filtered_data.sort_values('ProductId', axis=0, ascending=True, inplace=False, kind='quicksort', na_position='last')"
   ]
  },
  {
   "cell_type": "code",
   "execution_count": 9,
   "metadata": {},
   "outputs": [
    {
     "data": {
      "text/plain": [
       "(364173, 10)"
      ]
     },
     "execution_count": 9,
     "metadata": {},
     "output_type": "execute_result"
    }
   ],
   "source": [
    "#Deduplication of entries\n",
    "final=sorted_data.drop_duplicates(subset={\"UserId\",\"ProfileName\",\"Time\",\"Text\"}, keep='first', inplace=False)\n",
    "final.shape"
   ]
  },
  {
   "cell_type": "code",
   "execution_count": 10,
   "metadata": {},
   "outputs": [
    {
     "data": {
      "text/plain": [
       "69.25890143662969"
      ]
     },
     "execution_count": 10,
     "metadata": {},
     "output_type": "execute_result"
    }
   ],
   "source": [
    "#Checking to see how much % of data still remains\n",
    "(final['Id'].size*1.0)/(filtered_data['Id'].size*1.0)*100"
   ]
  },
  {
   "cell_type": "markdown",
   "metadata": {},
   "source": [
    "<b>Observation:-</b> It was also seen that in two rows given below the value of HelpfulnessNumerator is greater than HelpfulnessDenominator which is not practically possible hence these two rows too are removed from calcualtions"
   ]
  },
  {
   "cell_type": "code",
   "execution_count": 11,
   "metadata": {},
   "outputs": [
    {
     "data": {
      "text/html": [
       "<div>\n",
       "<style scoped>\n",
       "    .dataframe tbody tr th:only-of-type {\n",
       "        vertical-align: middle;\n",
       "    }\n",
       "\n",
       "    .dataframe tbody tr th {\n",
       "        vertical-align: top;\n",
       "    }\n",
       "\n",
       "    .dataframe thead th {\n",
       "        text-align: right;\n",
       "    }\n",
       "</style>\n",
       "<table border=\"1\" class=\"dataframe\">\n",
       "  <thead>\n",
       "    <tr style=\"text-align: right;\">\n",
       "      <th></th>\n",
       "      <th>Id</th>\n",
       "      <th>ProductId</th>\n",
       "      <th>UserId</th>\n",
       "      <th>ProfileName</th>\n",
       "      <th>HelpfulnessNumerator</th>\n",
       "      <th>HelpfulnessDenominator</th>\n",
       "      <th>Score</th>\n",
       "      <th>Time</th>\n",
       "      <th>Summary</th>\n",
       "      <th>Text</th>\n",
       "    </tr>\n",
       "  </thead>\n",
       "  <tbody>\n",
       "    <tr>\n",
       "      <th>0</th>\n",
       "      <td>64422</td>\n",
       "      <td>B000MIDROQ</td>\n",
       "      <td>A161DK06JJMCYF</td>\n",
       "      <td>J. E. Stephens \"Jeanne\"</td>\n",
       "      <td>3</td>\n",
       "      <td>1</td>\n",
       "      <td>5</td>\n",
       "      <td>1224892800</td>\n",
       "      <td>Bought This for My Son at College</td>\n",
       "      <td>My son loves spaghetti so I didn't hesitate or...</td>\n",
       "    </tr>\n",
       "    <tr>\n",
       "      <th>1</th>\n",
       "      <td>44737</td>\n",
       "      <td>B001EQ55RW</td>\n",
       "      <td>A2V0I904FH7ABY</td>\n",
       "      <td>Ram</td>\n",
       "      <td>3</td>\n",
       "      <td>2</td>\n",
       "      <td>4</td>\n",
       "      <td>1212883200</td>\n",
       "      <td>Pure cocoa taste with crunchy almonds inside</td>\n",
       "      <td>It was almost a 'love at first bite' - the per...</td>\n",
       "    </tr>\n",
       "  </tbody>\n",
       "</table>\n",
       "</div>"
      ],
      "text/plain": [
       "      Id   ProductId          UserId              ProfileName  \\\n",
       "0  64422  B000MIDROQ  A161DK06JJMCYF  J. E. Stephens \"Jeanne\"   \n",
       "1  44737  B001EQ55RW  A2V0I904FH7ABY                      Ram   \n",
       "\n",
       "   HelpfulnessNumerator  HelpfulnessDenominator  Score        Time  \\\n",
       "0                     3                       1      5  1224892800   \n",
       "1                     3                       2      4  1212883200   \n",
       "\n",
       "                                        Summary  \\\n",
       "0             Bought This for My Son at College   \n",
       "1  Pure cocoa taste with crunchy almonds inside   \n",
       "\n",
       "                                                Text  \n",
       "0  My son loves spaghetti so I didn't hesitate or...  \n",
       "1  It was almost a 'love at first bite' - the per...  "
      ]
     },
     "execution_count": 11,
     "metadata": {},
     "output_type": "execute_result"
    }
   ],
   "source": [
    "display= pd.read_sql_query(\"\"\"\n",
    "SELECT *\n",
    "FROM Reviews\n",
    "WHERE Score != 3 AND Id=44737 OR Id=64422\n",
    "ORDER BY ProductID\n",
    "\"\"\", con)\n",
    "\n",
    "display.head()"
   ]
  },
  {
   "cell_type": "code",
   "execution_count": 12,
   "metadata": {},
   "outputs": [],
   "source": [
    "final=final[final.HelpfulnessNumerator<=final.HelpfulnessDenominator]"
   ]
  },
  {
   "cell_type": "code",
   "execution_count": 13,
   "metadata": {},
   "outputs": [
    {
     "name": "stdout",
     "output_type": "stream",
     "text": [
      "(364171, 10)\n"
     ]
    },
    {
     "data": {
      "text/plain": [
       "1    307061\n",
       "0     57110\n",
       "Name: Score, dtype: int64"
      ]
     },
     "execution_count": 13,
     "metadata": {},
     "output_type": "execute_result"
    }
   ],
   "source": [
    "#Before starting the next phase of preprocessing lets see the number of entries left\n",
    "print(final.shape)\n",
    "\n",
    "#How many positive and negative reviews are present in our dataset?\n",
    "final['Score'].value_counts()"
   ]
  },
  {
   "cell_type": "markdown",
   "metadata": {},
   "source": [
    "### Data Cleaning: Removing miscategorized data points\n",
    "\n",
    "1. The products \"B00004CI84\" and \"B00004CXX9\" belong to movie category. Since the product name contains the word \"Juice\", it has been miscategorized under food.\n",
    "\n",
    "2. \"B0002YW26E\" is a Pest control product. Miscategorized as food.\n",
    "\n",
    "3. The products \"6641040\" and \"2841233731\" are CookBooks."
   ]
  },
  {
   "cell_type": "code",
   "execution_count": 14,
   "metadata": {},
   "outputs": [
    {
     "name": "stdout",
     "output_type": "stream",
     "text": [
      "Number of final points in our data (363896, 10)\n"
     ]
    }
   ],
   "source": [
    "# Removing the miscategorized products from the data\n",
    "\n",
    "final_data=final[~final.ProductId.isin (['B0002YW26E','B00004CI84','B00004CXX9','6641040','2841233731'])]\n",
    "print(\"Number of final points in our data\",final_data.shape)"
   ]
  },
  {
   "cell_type": "code",
   "execution_count": 15,
   "metadata": {},
   "outputs": [
    {
     "name": "stdout",
     "output_type": "stream",
     "text": [
      "1    306829\n",
      "0     57067\n",
      "Name: Score, dtype: int64\n"
     ]
    }
   ],
   "source": [
    "#How many positive and negative reviews are present in our dataset?\n",
    "print(final_data['Score'].value_counts())"
   ]
  },
  {
   "cell_type": "markdown",
   "metadata": {},
   "source": [
    "#  [3] Preprocessing"
   ]
  },
  {
   "cell_type": "markdown",
   "metadata": {},
   "source": [
    "## [3.1].  Preprocessing Review Text\n",
    "\n",
    "Now that we have finished deduplication our data requires some preprocessing before we go on further with analysis and making the prediction model.\n",
    "\n",
    "Hence in the Preprocessing phase we do the following in the order below:-\n",
    "\n",
    "1. Begin by removing the html tags\n",
    "2. Remove any punctuations or limited set of special characters like , or . or # etc.\n",
    "3. Check if the word is made up of english letters and is not alpha-numeric\n",
    "4. Check to see if the length of the word is greater than 2 (as it was researched that there is no adjective in 2-letters)\n",
    "5. Convert the word to lowercase\n",
    "6. Remove Stopwords\n",
    "7. Finally Snowball Stemming the word (it was obsereved to be better than Porter Stemming)<br>\n",
    "\n",
    "After which we collect the words used to describe positive and negative reviews"
   ]
  },
  {
   "cell_type": "code",
   "execution_count": 16,
   "metadata": {},
   "outputs": [
    {
     "name": "stdout",
     "output_type": "stream",
     "text": [
      "Why is this $[...] when the same product is available for $[...] here?<br />http://www.amazon.com/VICTOR-FLY-MAGNET-BAIT-REFILL/dp/B00004RBDY<br /><br />The Victor M380 and M502 traps are unreal, of course -- total fly genocide. Pretty stinky, but only right nearby.\n",
      "****************************************************************************************************\n",
      "Why is this $[...] when the same product is available for $[...] here?<br /> /><br />The Victor M380 and M502 traps are unreal, of course -- total fly genocide. Pretty stinky, but only right nearby.\n"
     ]
    }
   ],
   "source": [
    "# printing some random reviews\n",
    "sent_238 = final_data['Text'].values[238]\n",
    "print(sent_238)\n",
    "print(\"*\"*100)\n",
    "\n",
    "# remove urls from text python: https://stackoverflow.com/a/40823105/4084039\n",
    "sent_238 = re.sub(r\"http\\S+\", \"\", sent_238)\n",
    "print(sent_238)"
   ]
  },
  {
   "cell_type": "code",
   "execution_count": 18,
   "metadata": {},
   "outputs": [
    {
     "name": "stdout",
     "output_type": "stream",
     "text": [
      "Why is this $[...] when the same product is available for $[...] here?<br /> /><br />The Victor M380 and M502 traps are unreal, of course -- total fly genocide. Pretty stinky, but only right nearby.\n",
      "****************************************************************************************************\n",
      "Why is this $[...] when the same product is available for $[...] here? />The Victor M380 and M502 traps are unreal, of course -- total fly genocide. Pretty stinky, but only right nearby.\n"
     ]
    }
   ],
   "source": [
    "# https://stackoverflow.com/questions/16206380/python-beautifulsoup-how-to-remove-all-tags-from-an-element\n",
    "from bs4 import BeautifulSoup\n",
    "\n",
    "print(sent_238)\n",
    "print(\"*\"*100)\n",
    "soup = BeautifulSoup(sent_238, 'lxml')\n",
    "text = soup.get_text()\n",
    "print(text)"
   ]
  },
  {
   "cell_type": "code",
   "execution_count": 19,
   "metadata": {},
   "outputs": [
    {
     "name": "stdout",
     "output_type": "stream",
     "text": [
      "I buy these at Christmas time to stuff for parties.  They are a hit and getting hard to find.  :) Some wait for my tray of stuffed peppers with anticipation, and will be disappointed this year if I can't find them.\n",
      "****************************************************************************************************\n",
      "I buy these at Christmas time to stuff for parties.  They are a hit and getting hard to find.  :) Some wait for my tray of stuffed peppers with anticipation, and will be disappointed this year if I can not find them.\n"
     ]
    }
   ],
   "source": [
    "# https://stackoverflow.com/a/47091490/4084039\n",
    "import re\n",
    "\n",
    "def decontracted(phrase):\n",
    "    # specific\n",
    "    phrase = re.sub(r\"won't\", \"will not\", phrase)\n",
    "    phrase = re.sub(r\"can\\'t\", \"can not\", phrase)\n",
    "\n",
    "    # general\n",
    "    phrase = re.sub(r\"n\\'t\", \" not\", phrase)\n",
    "    phrase = re.sub(r\"\\'re\", \" are\", phrase)\n",
    "    phrase = re.sub(r\"\\'s\", \" is\", phrase)\n",
    "    phrase = re.sub(r\"\\'d\", \" would\", phrase)\n",
    "    phrase = re.sub(r\"\\'ll\", \" will\", phrase)\n",
    "    phrase = re.sub(r\"\\'t\", \" not\", phrase)\n",
    "    phrase = re.sub(r\"\\'ve\", \" have\", phrase)\n",
    "    phrase = re.sub(r\"\\'m\", \" am\", phrase)\n",
    "    return phrase\n",
    "\n",
    "sent_79290 = final_data['Text'].values[79290]\n",
    "print(sent_79290)\n",
    "print(\"*\"*100)\n",
    "sent_79290 = decontracted(sent_79290)\n",
    "print(sent_79290)"
   ]
  },
  {
   "cell_type": "code",
   "execution_count": 20,
   "metadata": {},
   "outputs": [
    {
     "name": "stdout",
     "output_type": "stream",
     "text": [
      "Why is this $[...] when the same product is available for $[...] here? />The Victor M380 and M502 traps are unreal, of course -- total fly genocide. Pretty stinky, but only right nearby.\n",
      "****************************************************************************************************\n",
      "Why is this $[...] when the same product is available for $[...] here? />The Victor  and  traps are unreal, of course -- total fly genocide. Pretty stinky, but only right nearby.\n"
     ]
    }
   ],
   "source": [
    "#remove words with numbers python: https://stackoverflow.com/a/18082370/4084039\n",
    "print(text)\n",
    "print(\"*\"*100)\n",
    "text = re.sub(\"\\S*\\d\\S*\", \"\", text).strip()\n",
    "print(text)"
   ]
  },
  {
   "cell_type": "code",
   "execution_count": 21,
   "metadata": {},
   "outputs": [
    {
     "name": "stdout",
     "output_type": "stream",
     "text": [
      "Why is this when the same product is available for here The Victor and traps are unreal of course total fly genocide Pretty stinky but only right nearby \n"
     ]
    }
   ],
   "source": [
    "#remove spacial character: https://stackoverflow.com/a/5843547/4084039\n",
    "text = re.sub('[^A-Za-z0-9]+', ' ', text)\n",
    "print(text)"
   ]
  },
  {
   "cell_type": "code",
   "execution_count": 22,
   "metadata": {},
   "outputs": [],
   "source": [
    "# https://gist.github.com/sebleier/554280\n",
    "# we are removing the words from the stop words list: 'no', 'nor', 'not'\n",
    "# <br /><br /> ==> after the above steps, we are getting \"br br\"\n",
    "# we are including them into stop words list\n",
    "# instead of <br /> if we have <br/> these tags would have revmoved in the 1st step\n",
    "\n",
    "stopwords= set(['br', 'the', 'i', 'me', 'my', 'myself', 'we', 'our', 'ours', 'ourselves', 'you', \"you're\", \"you've\",\\\n",
    "            \"you'll\", \"you'd\", 'your', 'yours', 'yourself', 'yourselves', 'he', 'him', 'his', 'himself', \\\n",
    "            'she', \"she's\", 'her', 'hers', 'herself', 'it', \"it's\", 'its', 'itself', 'they', 'them', 'their',\\\n",
    "            'theirs', 'themselves', 'what', 'which', 'who', 'whom', 'this', 'that', \"that'll\", 'these', 'those', \\\n",
    "            'am', 'is', 'are', 'was', 'were', 'be', 'been', 'being', 'have', 'has', 'had', 'having', 'do', 'does', \\\n",
    "            'did', 'doing', 'a', 'an', 'the', 'and', 'but', 'if', 'or', 'because', 'as', 'until', 'while', 'of', \\\n",
    "            'at', 'by', 'for', 'with', 'about', 'against', 'between', 'into', 'through', 'during', 'before', 'after',\\\n",
    "            'above', 'below', 'to', 'from', 'up', 'down', 'in', 'out', 'on', 'off', 'over', 'under', 'again', 'further',\\\n",
    "            'then', 'once', 'here', 'there', 'when', 'where', 'why', 'how', 'all', 'any', 'both', 'each', 'few', 'more',\\\n",
    "            'most', 'other', 'some', 'such', 'only', 'own', 'same', 'so', 'than', 'too', 'very', \\\n",
    "            's', 't', 'can', 'will', 'just', 'don', \"don't\", 'should', \"should've\", 'now', 'd', 'll', 'm', 'o', 're', \\\n",
    "            've', 'y', 'ain', 'aren', \"aren't\", 'couldn', \"couldn't\", 'didn', \"didn't\", 'doesn', \"doesn't\", 'hadn',\\\n",
    "            \"hadn't\", 'hasn', \"hasn't\", 'haven', \"haven't\", 'isn', \"isn't\", 'ma', 'mightn', \"mightn't\", 'mustn',\\\n",
    "            \"mustn't\", 'needn', \"needn't\", 'shan', \"shan't\", 'shouldn', \"shouldn't\", 'wasn', \"wasn't\", 'weren', \"weren't\", \\\n",
    "            'won', \"won't\", 'wouldn', \"wouldn't\"])"
   ]
  },
  {
   "cell_type": "code",
   "execution_count": 23,
   "metadata": {},
   "outputs": [
    {
     "name": "stderr",
     "output_type": "stream",
     "text": [
      "100%|██████████| 363896/363896 [02:25<00:00, 2505.54it/s]\n"
     ]
    }
   ],
   "source": [
    "# Combining all the above stundents \n",
    "from tqdm import tqdm\n",
    "preprocessed_reviews = []\n",
    "# tqdm is for printing the status bar\n",
    "for sentence in tqdm(final_data['Text'].values):\n",
    "    sentence = re.sub(r\"http\\S+\", \"\", sentence)\n",
    "    sentence = BeautifulSoup(sentence, 'lxml').get_text()\n",
    "    sentence = decontracted(sentence)\n",
    "    sentence = re.sub(\"\\S*\\d\\S*\", \"\", sentence).strip()\n",
    "    sentence = re.sub('[^A-Za-z]+', ' ', sentence)\n",
    "    # https://gist.github.com/sebleier/554280\n",
    "    sentence = ' '.join(e.lower() for e in sentence.split() if e.lower() not in stopwords)\n",
    "    preprocessed_reviews.append(sentence.strip())"
   ]
  },
  {
   "cell_type": "code",
   "execution_count": 24,
   "metadata": {
    "scrolled": true
   },
   "outputs": [
    {
     "data": {
      "text/plain": [
       "'cats love product not worry clay getting digested cats family matter one cats getting sick clay tried since natural voila healthy kitties sure may not work new fangled litter boxes not think made scoop litter must sit probably min stay ball love counts plus price awesome usually travel half hours get shipping worth gas travel time thank'"
      ]
     },
     "execution_count": 24,
     "metadata": {},
     "output_type": "execute_result"
    }
   ],
   "source": [
    "preprocessed_reviews[1600]"
   ]
  },
  {
   "cell_type": "code",
   "execution_count": 25,
   "metadata": {},
   "outputs": [
    {
     "name": "stdout",
     "output_type": "stream",
     "text": [
      "purchased several different brands liver treats best terms good size pieces small bits little powder\n"
     ]
    }
   ],
   "source": [
    "final_data['CleanedText']=preprocessed_reviews #adding a column of CleanedText which displays the data after pre-processing of review\n",
    "print(final_data['CleanedText'].values[100])"
   ]
  },
  {
   "cell_type": "code",
   "execution_count": 26,
   "metadata": {},
   "outputs": [
    {
     "name": "stderr",
     "output_type": "stream",
     "text": [
      "100%|██████████| 363896/363896 [01:34<00:00, 3858.80it/s]\n"
     ]
    }
   ],
   "source": [
    "# Combining all the above stundents \n",
    "from tqdm import tqdm\n",
    "preprocessed_summary = []\n",
    "# tqdm is for printing the status bar\n",
    "for sentence in tqdm(final_data['Summary'].values):\n",
    "    sentence = re.sub(r\"http\\S+\", \"\", sentence)\n",
    "    sentence = BeautifulSoup(sentence, 'lxml').get_text()\n",
    "    sentence = decontracted(sentence)\n",
    "    sentence = re.sub(\"\\S*\\d\\S*\", \"\", sentence).strip()\n",
    "    sentence = re.sub('[^A-Za-z]+', ' ', sentence)\n",
    "    # https://gist.github.com/sebleier/554280\n",
    "    sentence = ' '.join(e.lower() for e in sentence.split() if e.lower() not in stopwords)\n",
    "    preprocessed_summary.append(sentence.strip())"
   ]
  },
  {
   "cell_type": "code",
   "execution_count": 27,
   "metadata": {},
   "outputs": [
    {
     "name": "stdout",
     "output_type": "stream",
     "text": [
      "My dog would do anything for this treat\n",
      "****************************************************************************************************\n",
      "dog would anything treat\n"
     ]
    }
   ],
   "source": [
    "print(final_data['Summary'].values[101])\n",
    "print(\"*\"*100)\n",
    "print(preprocessed_summary[101])"
   ]
  },
  {
   "cell_type": "code",
   "execution_count": 28,
   "metadata": {},
   "outputs": [
    {
     "name": "stdout",
     "output_type": "stream",
     "text": [
      "delicious mildly sweet cookie\n"
     ]
    }
   ],
   "source": [
    "final_data['CleanedSummary']=preprocessed_summary #adding a column of CleanedText which displays the data after pre-processing of summary review\n",
    "print(final_data['CleanedSummary'].values[201])"
   ]
  },
  {
   "cell_type": "code",
   "execution_count": 29,
   "metadata": {},
   "outputs": [
    {
     "name": "stdout",
     "output_type": "stream",
     "text": [
      "purchased several different brands liver treats best terms good size pieces small bits little powder\n",
      "good quality\n",
      "****************************************************************************************************\n",
      "purchased several different brands liver treats best terms good size pieces small bits little powder good quality\n"
     ]
    }
   ],
   "source": [
    "final_data['FinalReview']= final_data['CleanedText'] + str(\" \") + final_data['CleanedSummary']\n",
    "print(final_data['CleanedText'].values[100])\n",
    "print(final_data['CleanedSummary'].values[100])\n",
    "print(\"*\"*100)\n",
    "print(final_data['FinalReview'].values[100])"
   ]
  },
  {
   "cell_type": "code",
   "execution_count": 30,
   "metadata": {},
   "outputs": [
    {
     "data": {
      "text/plain": [
       "Index(['Id', 'ProductId', 'UserId', 'ProfileName', 'HelpfulnessNumerator',\n",
       "       'HelpfulnessDenominator', 'Score', 'Time', 'Summary', 'Text',\n",
       "       'CleanedText', 'CleanedSummary', 'FinalReview'],\n",
       "      dtype='object')"
      ]
     },
     "execution_count": 30,
     "metadata": {},
     "output_type": "execute_result"
    }
   ],
   "source": [
    "final_data.columns"
   ]
  },
  {
   "cell_type": "markdown",
   "metadata": {},
   "source": [
    "# [4] Applying Logistic Regression"
   ]
  },
  {
   "cell_type": "code",
   "execution_count": 30,
   "metadata": {},
   "outputs": [
    {
     "name": "stdout",
     "output_type": "stream",
     "text": [
      "(200000, 13)\n",
      "(200000,)\n"
     ]
    }
   ],
   "source": [
    "# Taking 200k points from our dataset\n",
    "\n",
    "final_sample = final_data.sample(n=200000)\n",
    "print(final_sample.shape)\n",
    "print(final_sample[\"Score\"].shape)"
   ]
  },
  {
   "cell_type": "code",
   "execution_count": 32,
   "metadata": {},
   "outputs": [
    {
     "name": "stdout",
     "output_type": "stream",
     "text": [
      "purchased product additive punch wedding boiled minutes recommended perfect putting punch not sweeten delicious would absolutely recommend product others worked great\n",
      "The number of words in the above review is:  21\n"
     ]
    }
   ],
   "source": [
    "word_count= []\n",
    "for sentence in final_sample['FinalReview'].values:\n",
    "    total_words= len(sentence.split())\n",
    "    word_count.append(total_words)\n",
    "    \n",
    "print(final_sample['FinalReview'].values[12])\n",
    "print(\"The number of words in the above review is: \", word_count[12])"
   ]
  },
  {
   "cell_type": "code",
   "execution_count": 33,
   "metadata": {},
   "outputs": [
    {
     "name": "stdout",
     "output_type": "stream",
     "text": [
      "definetely highest quality green tea ever love bags surprised good costco tea drinking couple years love high quality green tea\n",
      "****************************************************************************************************\n",
      "20\n"
     ]
    }
   ],
   "source": [
    "final_sample['word_count']=word_count \n",
    "print(final_sample['FinalReview'].values[5])\n",
    "print(\"*\"*100)\n",
    "print(final_sample['word_count'].values[5])"
   ]
  },
  {
   "cell_type": "code",
   "execution_count": 34,
   "metadata": {},
   "outputs": [
    {
     "name": "stdout",
     "output_type": "stream",
     "text": [
      "138706    939340800\n",
      "Name: Time, dtype: int64\n",
      "112219    1351209600\n",
      "Name: Time, dtype: int64\n"
     ]
    }
   ],
   "source": [
    "# Sorting the data based on time\n",
    "\n",
    "final_sample.sort_values(by='Time', ascending=True, inplace=True)\n",
    "print(final_sample['Time'].head(1))\n",
    "print(final_sample['Time'].tail(1))"
   ]
  },
  {
   "cell_type": "code",
   "execution_count": 35,
   "metadata": {},
   "outputs": [
    {
     "name": "stdout",
     "output_type": "stream",
     "text": [
      "No of data points in training dataset (160000, 14)\n",
      "No of data points in test dataset (40000, 14)\n",
      "1    135647\n",
      "0     24353\n",
      "Name: Score, dtype: int64\n"
     ]
    }
   ],
   "source": [
    "import sklearn.model_selection as model_selection\n",
    "from sklearn.neighbors import KNeighborsClassifier\n",
    "\n",
    "# split the data set into train and test\n",
    "X_tr, X_test, y_tr, y_test = model_selection.train_test_split(final_sample, final_sample[\"Score\"], shuffle=False,test_size=0.2)\n",
    "\n",
    "print(\"No of data points in training dataset\", X_tr.shape)\n",
    "print(\"No of data points in test dataset\", X_test.shape)\n",
    "print(y_tr.value_counts())"
   ]
  },
  {
   "cell_type": "code",
   "execution_count": 55,
   "metadata": {},
   "outputs": [
    {
     "name": "stdout",
     "output_type": "stream",
     "text": [
      "138706    939340800\n",
      "Name: Time, dtype: int64\n",
      "345345    1337040000\n",
      "Name: Time, dtype: int64\n",
      "********************************\n",
      "358642    1337040000\n",
      "Name: Time, dtype: int64\n",
      "112219    1351209600\n",
      "Name: Time, dtype: int64\n"
     ]
    }
   ],
   "source": [
    "print(X_tr['Time'].head(1))\n",
    "print(X_tr['Time'].tail(1))\n",
    "\n",
    "print('********************************')\n",
    "\n",
    "print(X_test['Time'].head(1))\n",
    "print(X_test['Time'].tail(1))"
   ]
  },
  {
   "cell_type": "markdown",
   "metadata": {},
   "source": [
    "## [4.1] Logistic Regression on BOW"
   ]
  },
  {
   "cell_type": "code",
   "execution_count": 37,
   "metadata": {},
   "outputs": [
    {
     "name": "stdout",
     "output_type": "stream",
     "text": [
      "The shape of train text BOW vectorizer  (160000, 2319414)\n",
      "The shape of train text BOW after adding word_count  (160000, 2319415)\n"
     ]
    }
   ],
   "source": [
    "#BoW: \n",
    "count_vect = CountVectorizer(ngram_range=(1,2)) \n",
    "final_counts_train = count_vect.fit_transform(X_tr['FinalReview'].values)\n",
    "print(\"The shape of train text BOW vectorizer \",final_counts_train.get_shape())\n",
    "\n",
    "# https://stackoverflow.com/questions/41927781/adding-pandas-columns-to-a-sparse-matrix\n",
    "from scipy.sparse import hstack\n",
    "final_train = hstack((final_counts_train,np.array(X_tr['word_count'])[:,None]))\n",
    "print(\"The shape of train text BOW after adding word_count \",final_train.get_shape())"
   ]
  },
  {
   "cell_type": "code",
   "execution_count": 38,
   "metadata": {},
   "outputs": [],
   "source": [
    "# Data-preprocessing: Standardizing the data\n",
    "\n",
    "from sklearn.preprocessing import StandardScaler\n",
    "standardized_data_train = StandardScaler(with_mean=False).fit_transform(final_train)"
   ]
  },
  {
   "cell_type": "code",
   "execution_count": 39,
   "metadata": {},
   "outputs": [
    {
     "name": "stdout",
     "output_type": "stream",
     "text": [
      "Resampled dataset shape Counter({0: 135647, 1: 135647})\n"
     ]
    }
   ],
   "source": [
    "# Balancing the train data\n",
    "from imblearn.over_sampling import SMOTE \n",
    "from collections import Counter\n",
    "\n",
    "sm = SMOTE(random_state=2)\n",
    "X_train_bow, y_train_bow = sm.fit_resample(standardized_data_train, y_tr.ravel())\n",
    "print('Resampled dataset shape %s' % Counter(y_train_bow))"
   ]
  },
  {
   "cell_type": "code",
   "execution_count": 40,
   "metadata": {},
   "outputs": [
    {
     "name": "stdout",
     "output_type": "stream",
     "text": [
      "Train data before upsampling:  [(0, 24353), (1, 135647)]\n",
      "Train data after upsampling :  [(0, 135647), (1, 135647)]\n"
     ]
    }
   ],
   "source": [
    "print(\"Train data before upsampling: \",sorted(Counter(y_tr).items()))\n",
    "print(\"Train data after upsampling : \", sorted(Counter(y_train_bow).items()))"
   ]
  },
  {
   "cell_type": "code",
   "execution_count": 41,
   "metadata": {
    "scrolled": true
   },
   "outputs": [
    {
     "name": "stdout",
     "output_type": "stream",
     "text": [
      "The shape of test text BOW vectorizer  (40000, 2319414)\n",
      "The shape of train text BOW after adding word_count  (40000, 2319415)\n"
     ]
    }
   ],
   "source": [
    "#BoW: \n",
    "final_counts_test = count_vect.transform(X_test['FinalReview'].values)\n",
    "print(\"The shape of test text BOW vectorizer \",final_counts_test.get_shape())\n",
    "\n",
    "# https://stackoverflow.com/questions/41927781/adding-pandas-columns-to-a-sparse-matrix\n",
    "from scipy.sparse import hstack\n",
    "final_test = hstack((final_counts_test,np.array(X_test['word_count'])[:,None]))\n",
    "print(\"The shape of train text BOW after adding word_count \",final_test.get_shape())\n",
    "\n",
    "# Data-preprocessing: Standardizing the data\n",
    "\n",
    "from sklearn.preprocessing import StandardScaler\n",
    "X_test_bow = StandardScaler(with_mean=False).fit_transform(final_test)"
   ]
  },
  {
   "cell_type": "markdown",
   "metadata": {},
   "source": [
    "### [4.1.1] Applying Logistic Regression with L1 regularization on BOW"
   ]
  },
  {
   "cell_type": "code",
   "execution_count": 42,
   "metadata": {},
   "outputs": [
    {
     "name": "stdout",
     "output_type": "stream",
     "text": [
      "LogisticRegression(C=10, class_weight=None, dual=False, fit_intercept=True,\n",
      "          intercept_scaling=1, max_iter=100, multi_class='warn', n_jobs=-1,\n",
      "          penalty='l1', random_state=None, solver='warn', tol=0.0001,\n",
      "          verbose=0, warm_start=False)\n",
      "Training Accuracy: 0.9999999999728263\n",
      "Test Accuracy: 0.9444243019339041\n"
     ]
    },
    {
     "data": {
      "image/png": "[encoded data removed]",
      "text/plain": [
       "<Figure size 432x288 with 1 Axes>"
      ]
     },
     "metadata": {
      "needs_background": "light"
     },
     "output_type": "display_data"
    }
   ],
   "source": [
    "from sklearn.linear_model import LogisticRegression\n",
    "from sklearn.model_selection import GridSearchCV\n",
    "import warnings\n",
    "warnings.filterwarnings(\"ignore\")\n",
    "\n",
    "# define the parameter values that should be searched\n",
    "k_range = [10 ** x for x in range(-4,6)] \n",
    "param_grid = dict(C=k_range)\n",
    "\n",
    "# instantiate the grid\n",
    "LR = LogisticRegression(penalty= 'l1',n_jobs= -1)\n",
    "clf = GridSearchCV(LR, param_grid, cv=5,n_jobs= -1,scoring ='roc_auc')\n",
    "\n",
    "# fit the grid with data\n",
    "clf.fit(X_train_bow, y_train_bow)\n",
    "\n",
    "print(clf.best_estimator_)\n",
    "print(\"Training Accuracy:\", clf.score(X_train_bow,y_train_bow))\n",
    "print(\"Test Accuracy:\",clf.score(X_test_bow,y_test))\n",
    "\n",
    "train_auc = clf.cv_results_['mean_train_score']\n",
    "train_auc_std= clf.cv_results_['std_train_score']\n",
    "cv_auc = clf.cv_results_['mean_test_score'] \n",
    "cv_auc_std= clf.cv_results_['std_test_score']\n",
    "\n",
    "# plot the results\n",
    "\n",
    "plt.plot(k_range, train_auc, label='Train AUC')\n",
    "# this code is copied from here: https://stackoverflow.com/a/48803361/4084039\n",
    "plt.gca().fill_between(k_range,train_auc - train_auc_std,train_auc + train_auc_std,alpha=0.2,color='darkblue')\n",
    "\n",
    "plt.plot(k_range, cv_auc, label='CV AUC')\n",
    "# this code is copied from here: https://stackoverflow.com/a/48803361/4084039\n",
    "plt.gca().fill_between(k_range,cv_auc - cv_auc_std,cv_auc + cv_auc_std,alpha=0.2,color='darkorange')\n",
    "\n",
    "plt.xlabel('K: hyperparameter')\n",
    "plt.ylabel('AUC')\n",
    "plt.title('ERROR PLOTS')\n",
    "plt.legend()\n",
    "\n",
    "plt.show()"
   ]
  },
  {
   "cell_type": "code",
   "execution_count": 43,
   "metadata": {
    "scrolled": false
   },
   "outputs": [
    {
     "name": "stdout",
     "output_type": "stream",
     "text": [
      "{'C': 10}\n",
      "AUC score on train data:  0.9999999999184788\n",
      "AUC score on test data:  0.9457064098187755\n"
     ]
    },
    {
     "data": {
      "image/png": "[encoded data removed]",
      "text/plain": [
       "<Figure size 432x288 with 1 Axes>"
      ]
     },
     "metadata": {
      "needs_background": "light"
     },
     "output_type": "display_data"
    },
    {
     "name": "stdout",
     "output_type": "stream",
     "text": [
      "====================================================================================================\n",
      "Train confusion matrix\n",
      "[[135647      0]\n",
      " [     1 135646]]\n",
      "Test confusion matrix\n",
      "[[ 5095  1758]\n",
      " [ 1096 32051]]\n"
     ]
    }
   ],
   "source": [
    "from sklearn.metrics import roc_curve\n",
    "from sklearn.metrics import roc_auc_score\n",
    "\n",
    "# the best hyper parameter obtained \n",
    "print(clf.best_params_)\n",
    "optimal_C = clf.best_params_.get(\"C\")\n",
    "\n",
    "LR = LogisticRegression(C= optimal_C, penalty= 'l1', n_jobs= -1)\n",
    "LR.fit(X_train_bow, y_train_bow)\n",
    "\n",
    "y_pred_proba_train = LR.predict_proba(X_train_bow)[:,1]\n",
    "y_pred_proba_test = LR.predict_proba(X_test_bow)[:,1]\n",
    "train_fpr, train_tpr, thresholds = roc_curve(y_train_bow, y_pred_proba_train)\n",
    "test_fpr, test_tpr, thresholds = roc_curve(y_test, y_pred_proba_test)\n",
    "\n",
    "print(\"AUC score on train data: \",roc_auc_score(y_train_bow, y_pred_proba_train))\n",
    "print(\"AUC score on test data: \",roc_auc_score(y_test, y_pred_proba_test))\n",
    "\n",
    "plt.plot([0,1],[0,1],'k--')\n",
    "plt.plot(train_fpr,train_tpr, label=\"train AUC =\"+str(auc(train_fpr, train_tpr)))\n",
    "plt.plot(test_fpr,test_tpr, label=\"test AUC =\"+str(auc(test_fpr, test_tpr)))\n",
    "plt.xlabel('K: hyperparameter')\n",
    "plt.ylabel('AUC')\n",
    "plt.title('ERROR PLOTS')\n",
    "plt.legend()\n",
    "\n",
    "plt.show()\n",
    "\n",
    "print(\"=\"*100)\n",
    "\n",
    "from sklearn.metrics import confusion_matrix\n",
    "\n",
    "print(\"Train confusion matrix\")\n",
    "print(confusion_matrix(y_train_bow, LR.predict(X_train_bow)))\n",
    "print(\"Test confusion matrix\")\n",
    "print(confusion_matrix(y_test, LR.predict(X_test_bow)))"
   ]
  },
  {
   "cell_type": "code",
   "execution_count": 44,
   "metadata": {},
   "outputs": [
    {
     "name": "stdout",
     "output_type": "stream",
     "text": [
      "Confusion matrix for TRAIN data\n"
     ]
    },
    {
     "data": {
      "text/plain": [
       "<matplotlib.axes._subplots.AxesSubplot at 0x7f81b1e74940>"
      ]
     },
     "execution_count": 44,
     "metadata": {},
     "output_type": "execute_result"
    },
    {
     "data": {
      "image/png": "[encoded data removed]",
      "text/plain": [
       "<Figure size 432x288 with 2 Axes>"
      ]
     },
     "metadata": {
      "needs_background": "light"
     },
     "output_type": "display_data"
    },
    {
     "data": {
      "image/png": "[encoded data removed]",
      "text/plain": [
       "<Figure size 432x288 with 2 Axes>"
      ]
     },
     "metadata": {
      "needs_background": "light"
     },
     "output_type": "display_data"
    }
   ],
   "source": [
    "import scikitplot as skplt\n",
    "\n",
    "print(\"Confusion matrix for TRAIN data\")\n",
    "skplt.metrics.plot_confusion_matrix(y_train_bow, LR.predict(X_train_bow))\n",
    "skplt.metrics.plot_confusion_matrix(y_train_bow, LR.predict(X_train_bow), normalize=True)"
   ]
  },
  {
   "cell_type": "code",
   "execution_count": 45,
   "metadata": {},
   "outputs": [
    {
     "name": "stdout",
     "output_type": "stream",
     "text": [
      "Confusion matrix for TEST data\n"
     ]
    },
    {
     "data": {
      "text/plain": [
       "<matplotlib.axes._subplots.AxesSubplot at 0x7f81a12ae9e8>"
      ]
     },
     "execution_count": 45,
     "metadata": {},
     "output_type": "execute_result"
    },
    {
     "data": {
      "image/png": "[encoded data removed]",
      "text/plain": [
       "<Figure size 432x288 with 2 Axes>"
      ]
     },
     "metadata": {
      "needs_background": "light"
     },
     "output_type": "display_data"
    },
    {
     "data": {
      "image/png": "[encoded data removed]",
      "text/plain": [
       "<Figure size 432x288 with 2 Axes>"
      ]
     },
     "metadata": {
      "needs_background": "light"
     },
     "output_type": "display_data"
    }
   ],
   "source": [
    "print(\"Confusion matrix for TEST data\")\n",
    "skplt.metrics.plot_confusion_matrix(y_test, LR.predict(X_test_bow))\n",
    "skplt.metrics.plot_confusion_matrix(y_test, LR.predict(X_test_bow), normalize=True)"
   ]
  },
  {
   "cell_type": "markdown",
   "metadata": {},
   "source": [
    "#### [4.1.1.1] Calculating sparsity on weight vector obtained using L1 regularization on BOW"
   ]
  },
  {
   "cell_type": "code",
   "execution_count": 47,
   "metadata": {},
   "outputs": [
    {
     "name": "stdout",
     "output_type": "stream",
     "text": [
      "Sparsity on weight vector obtained using L1 regularization on BOW is:  406952\n"
     ]
    }
   ],
   "source": [
    "# Calculating sparsity on weight vector\n",
    "import numpy as np\n",
    "\n",
    "LR = LogisticRegression(C=optimal_C, penalty='l1');\n",
    "LR.fit(X_train_bow, y_train_bow)\n",
    "w = LR.coef_\n",
    "print(\"Sparsity on weight vector obtained using L1 regularization on BOW is: \",np.count_nonzero(w))"
   ]
  },
  {
   "cell_type": "markdown",
   "metadata": {},
   "source": [
    "### [4.1.2] Applying Logistic Regression with L2 regularization on BOW"
   ]
  },
  {
   "cell_type": "code",
   "execution_count": 48,
   "metadata": {},
   "outputs": [
    {
     "name": "stdout",
     "output_type": "stream",
     "text": [
      "LogisticRegression(C=0.0001, class_weight=None, dual=False,\n",
      "          fit_intercept=True, intercept_scaling=1, max_iter=100,\n",
      "          multi_class='warn', n_jobs=-1, penalty='l2', random_state=None,\n",
      "          solver='warn', tol=0.0001, verbose=0, warm_start=False)\n",
      "Training Accuracy: 0.9999999951902458\n",
      "Test Accuracy: 0.9237748675096709\n"
     ]
    },
    {
     "data": {
      "image/png": "[encoded data removed]",
      "text/plain": [
       "<Figure size 432x288 with 1 Axes>"
      ]
     },
     "metadata": {
      "needs_background": "light"
     },
     "output_type": "display_data"
    }
   ],
   "source": [
    "from sklearn.linear_model import LogisticRegression\n",
    "from sklearn.model_selection import GridSearchCV\n",
    "import warnings\n",
    "warnings.filterwarnings(\"ignore\")\n",
    "\n",
    "# define the parameter values that should be searched\n",
    "k_range = [10 ** x for x in range(-4,6)] \n",
    "param_grid = dict(C=k_range)\n",
    "\n",
    "# instantiate the grid\n",
    "LR = LogisticRegression(penalty= 'l2',n_jobs= -1)\n",
    "clf = GridSearchCV(LR, param_grid, cv=5,n_jobs= -1,scoring ='roc_auc')\n",
    "\n",
    "# fit the grid with data\n",
    "clf.fit(X_train_bow, y_train_bow)\n",
    "\n",
    "print(clf.best_estimator_)\n",
    "print(\"Training Accuracy:\", clf.score(X_train_bow,y_train_bow))\n",
    "print(\"Test Accuracy:\",clf.score(X_test_bow,y_test))\n",
    "\n",
    "train_auc = clf.cv_results_['mean_train_score']\n",
    "train_auc_std= clf.cv_results_['std_train_score']\n",
    "cv_auc = clf.cv_results_['mean_test_score'] \n",
    "cv_auc_std= clf.cv_results_['std_test_score']\n",
    "\n",
    "# plot the results\n",
    "\n",
    "plt.plot(k_range, train_auc, label='Train AUC')\n",
    "# this code is copied from here: https://stackoverflow.com/a/48803361/4084039\n",
    "plt.gca().fill_between(k_range,train_auc - train_auc_std,train_auc + train_auc_std,alpha=0.2,color='darkblue')\n",
    "\n",
    "plt.plot(k_range, cv_auc, label='CV AUC')\n",
    "# this code is copied from here: https://stackoverflow.com/a/48803361/4084039\n",
    "plt.gca().fill_between(k_range,cv_auc - cv_auc_std,cv_auc + cv_auc_std,alpha=0.2,color='darkorange')\n",
    "\n",
    "plt.xlabel('K: hyperparameter')\n",
    "plt.ylabel('AUC')\n",
    "plt.title('ERROR PLOTS')\n",
    "plt.legend()\n",
    "\n",
    "plt.show()"
   ]
  },
  {
   "cell_type": "code",
   "execution_count": 49,
   "metadata": {},
   "outputs": [
    {
     "name": "stdout",
     "output_type": "stream",
     "text": [
      "{'C': 0.0001}\n",
      "AUC score on train data:  0.9999999951902458\n",
      "AUC score on test data:  0.9237748675096709\n"
     ]
    },
    {
     "data": {
      "image/png": "[encoded data removed]",
      "text/plain": [
       "<Figure size 432x288 with 1 Axes>"
      ]
     },
     "metadata": {
      "needs_background": "light"
     },
     "output_type": "display_data"
    },
    {
     "name": "stdout",
     "output_type": "stream",
     "text": [
      "====================================================================================================\n",
      "Train confusion matrix\n",
      "[[135647      0]\n",
      " [    37 135610]]\n",
      "Test confusion matrix\n",
      "[[ 4228  2625]\n",
      " [  550 32597]]\n"
     ]
    }
   ],
   "source": [
    "from sklearn.metrics import roc_curve\n",
    "from sklearn.metrics import roc_auc_score\n",
    "\n",
    "# the best hyper parameter obtained \n",
    "print(clf.best_params_)\n",
    "optimal_C = clf.best_params_.get(\"C\")\n",
    "\n",
    "LR = LogisticRegression(C= optimal_C, penalty= 'l2', n_jobs= -1)\n",
    "LR.fit(X_train_bow, y_train_bow)\n",
    "\n",
    "y_pred_proba_train = LR.predict_proba(X_train_bow)[:,1]\n",
    "y_pred_proba_test = LR.predict_proba(X_test_bow)[:,1]\n",
    "train_fpr, train_tpr, thresholds = roc_curve(y_train_bow, y_pred_proba_train)\n",
    "test_fpr, test_tpr, thresholds = roc_curve(y_test, y_pred_proba_test)\n",
    "\n",
    "print(\"AUC score on train data: \",roc_auc_score(y_train_bow, y_pred_proba_train))\n",
    "print(\"AUC score on test data: \",roc_auc_score(y_test, y_pred_proba_test))\n",
    "\n",
    "plt.plot([0,1],[0,1],'k--')\n",
    "plt.plot(train_fpr,train_tpr, label=\"train AUC =\"+str(auc(train_fpr, train_tpr)))\n",
    "plt.plot(test_fpr,test_tpr, label=\"test AUC =\"+str(auc(test_fpr, test_tpr)))\n",
    "plt.xlabel('K: hyperparameter')\n",
    "plt.ylabel('AUC')\n",
    "plt.title('ERROR PLOTS')\n",
    "plt.legend()\n",
    "\n",
    "plt.show()\n",
    "\n",
    "print(\"=\"*100)\n",
    "\n",
    "from sklearn.metrics import confusion_matrix\n",
    "\n",
    "print(\"Train confusion matrix\")\n",
    "print(confusion_matrix(y_train_bow, LR.predict(X_train_bow)))\n",
    "print(\"Test confusion matrix\")\n",
    "print(confusion_matrix(y_test, LR.predict(X_test_bow)))"
   ]
  },
  {
   "cell_type": "code",
   "execution_count": 50,
   "metadata": {},
   "outputs": [
    {
     "name": "stdout",
     "output_type": "stream",
     "text": [
      "Confusion matrix for TRAIN data\n"
     ]
    },
    {
     "data": {
      "text/plain": [
       "<matplotlib.axes._subplots.AxesSubplot at 0x7f81aec43208>"
      ]
     },
     "execution_count": 50,
     "metadata": {},
     "output_type": "execute_result"
    },
    {
     "data": {
      "image/png": "[encoded data removed]",
      "text/plain": [
       "<Figure size 432x288 with 2 Axes>"
      ]
     },
     "metadata": {
      "needs_background": "light"
     },
     "output_type": "display_data"
    },
    {
     "data": {
      "image/png": "[encoded data removed]",
      "text/plain": [
       "<Figure size 432x288 with 2 Axes>"
      ]
     },
     "metadata": {
      "needs_background": "light"
     },
     "output_type": "display_data"
    }
   ],
   "source": [
    "import scikitplot as skplt\n",
    "\n",
    "print(\"Confusion matrix for TRAIN data\")\n",
    "skplt.metrics.plot_confusion_matrix(y_train_bow, LR.predict(X_train_bow))\n",
    "skplt.metrics.plot_confusion_matrix(y_train_bow, LR.predict(X_train_bow), normalize=True)"
   ]
  },
  {
   "cell_type": "code",
   "execution_count": 51,
   "metadata": {},
   "outputs": [
    {
     "name": "stdout",
     "output_type": "stream",
     "text": [
      "Confusion matrix for TEST data\n"
     ]
    },
    {
     "data": {
      "text/plain": [
       "<matplotlib.axes._subplots.AxesSubplot at 0x7f81b0f862b0>"
      ]
     },
     "execution_count": 51,
     "metadata": {},
     "output_type": "execute_result"
    },
    {
     "data": {
      "image/png": "[encoded data removed]",
      "text/plain": [
       "<Figure size 432x288 with 2 Axes>"
      ]
     },
     "metadata": {
      "needs_background": "light"
     },
     "output_type": "display_data"
    },
    {
     "data": {
      "image/png": "[encoded data removed]",
      "text/plain": [
       "<Figure size 432x288 with 2 Axes>"
      ]
     },
     "metadata": {
      "needs_background": "light"
     },
     "output_type": "display_data"
    }
   ],
   "source": [
    "print(\"Confusion matrix for TEST data\")\n",
    "skplt.metrics.plot_confusion_matrix(y_test, LR.predict(X_test_bow))\n",
    "skplt.metrics.plot_confusion_matrix(y_test, LR.predict(X_test_bow), normalize=True)"
   ]
  },
  {
   "cell_type": "markdown",
   "metadata": {},
   "source": [
    "### [4.1.3] Feature Importance on BOW "
   ]
  },
  {
   "cell_type": "code",
   "execution_count": 53,
   "metadata": {},
   "outputs": [
    {
     "name": "stdout",
     "output_type": "stream",
     "text": [
      "The informative features are below: \n",
      "\t-0.4050\tdisappointed   \t\t\t0.1163\tgreat          \n",
      "\t-0.2903\texpensive      \t\t\t0.0799\tlove           \n",
      "\t-0.2809\tfat            \t\t\t0.0764\tgood           \n",
      "\t-0.2791\tsalty          \t\t\t0.0737\tbest           \n",
      "\t-0.0442\tbeware         \t\t\t0.0612\tdelicious      \n",
      "\t-0.0394\tnot good       \t\t\t0.0506\texcellent      \n",
      "\t-0.0392\tnot worth      \t\t\t0.0450\tloves          \n",
      "\t-0.0379\tnot expected   \t\t\t0.0437\tfavorite       \n",
      "\t-0.0369\tnot buy        \t\t\t0.0419\tyummy          \n",
      "\t-0.0320\tawful          \t\t\t0.0411\ttasty          \n"
     ]
    }
   ],
   "source": [
    "#https://stackoverflow.com/questions/11116697/how-to-get-most-informative-features-for-scikit-learn-classifiers\n",
    "\n",
    "def feature_importance(vectorizer, clf, n=10):\n",
    "    feature_names = vectorizer.get_feature_names()\n",
    "    coefs_with_fns = sorted(zip(clf.coef_ [0], feature_names))\n",
    "    top = zip(coefs_with_fns[:n], coefs_with_fns[:-(n + 1):-1])\n",
    "    print(\"The informative features are below: \")\n",
    "    for (coef_1, fn_1), (coef_2, fn_2) in top:\n",
    "        print(\"\\t%.4f\\t%-15s\\t\\t\\t%.4f\\t%-15s\" % (coef_1, fn_1, coef_2, fn_2))\n",
    "\n",
    "feature_importance(count_vect, LR)"
   ]
  },
  {
   "cell_type": "markdown",
   "metadata": {},
   "source": [
    "## [4.2] Logistic Regression on TFIDF"
   ]
  },
  {
   "cell_type": "code",
   "execution_count": 31,
   "metadata": {},
   "outputs": [
    {
     "name": "stdout",
     "output_type": "stream",
     "text": [
      "(100000, 13)\n",
      "(100000,)\n"
     ]
    }
   ],
   "source": [
    "# Taking 200k points from our dataset\n",
    "\n",
    "final_sample = final_data.sample(n=100000)\n",
    "print(final_sample.shape)\n",
    "print(final_sample[\"Score\"].shape)"
   ]
  },
  {
   "cell_type": "code",
   "execution_count": 32,
   "metadata": {},
   "outputs": [
    {
     "name": "stdout",
     "output_type": "stream",
     "text": [
      "tiny mighty popcorn tbm best popcorn ever adventurous tried sorts popcorn kettle corn cheddar butter sugar even marshmallow popcorn experience popcorn world truthfully say always come back tbm popcorn healthy popcorn market even taste better every single microwave variety eating tbm popcorn years recently totally redesigned bag tiny popcorn comes wow looks classy elegant sophisticated even gives guide lines prepare product best results popping not mention little history ancient heirloom popcorn well done tbm popcorn well done avid popcorn lover cannot wait see next big move keep good work farmer gene great quality popcorn\n",
      "The number of words in the above review is:  94\n"
     ]
    }
   ],
   "source": [
    "word_count= []\n",
    "for sentence in final_sample['FinalReview'].values:\n",
    "    total_words= len(sentence.split())\n",
    "    word_count.append(total_words)\n",
    "    \n",
    "print(final_sample['FinalReview'].values[12])\n",
    "print(\"The number of words in the above review is: \", word_count[12])"
   ]
  },
  {
   "cell_type": "code",
   "execution_count": 33,
   "metadata": {},
   "outputs": [
    {
     "name": "stdout",
     "output_type": "stream",
     "text": [
      "great price one favorite teas wish irish breakfast good buy english breakfast twinings tea\n",
      "****************************************************************************************************\n",
      "14\n"
     ]
    }
   ],
   "source": [
    "final_sample['word_count']=word_count \n",
    "print(final_sample['FinalReview'].values[5])\n",
    "print(\"*\"*100)\n",
    "print(final_sample['word_count'].values[5])"
   ]
  },
  {
   "cell_type": "code",
   "execution_count": 34,
   "metadata": {},
   "outputs": [
    {
     "name": "stdout",
     "output_type": "stream",
     "text": [
      "1146    961718400\n",
      "Name: Time, dtype: int64\n",
      "489266    1351209600\n",
      "Name: Time, dtype: int64\n"
     ]
    }
   ],
   "source": [
    "# Sorting the data based on time\n",
    "\n",
    "final_sample.sort_values(by='Time', ascending=True, inplace=True)\n",
    "print(final_sample['Time'].head(1))\n",
    "print(final_sample['Time'].tail(1))"
   ]
  },
  {
   "cell_type": "code",
   "execution_count": 35,
   "metadata": {},
   "outputs": [
    {
     "name": "stdout",
     "output_type": "stream",
     "text": [
      "No of data points in training dataset (80000, 14)\n",
      "No of data points in test dataset (20000, 14)\n",
      "1    67849\n",
      "0    12151\n",
      "Name: Score, dtype: int64\n"
     ]
    }
   ],
   "source": [
    "import sklearn.model_selection as model_selection\n",
    "from sklearn.neighbors import KNeighborsClassifier\n",
    "\n",
    "# split the data set into train and test\n",
    "X_tr, X_test, y_tr, y_test = model_selection.train_test_split(final_sample, final_sample[\"Score\"], shuffle=False,test_size=0.2)\n",
    "\n",
    "print(\"No of data points in training dataset\", X_tr.shape)\n",
    "print(\"No of data points in test dataset\", X_test.shape)\n",
    "print(y_tr.value_counts())"
   ]
  },
  {
   "cell_type": "code",
   "execution_count": 36,
   "metadata": {},
   "outputs": [
    {
     "name": "stdout",
     "output_type": "stream",
     "text": [
      "1146    961718400\n",
      "Name: Time, dtype: int64\n",
      "490299    1337126400\n",
      "Name: Time, dtype: int64\n",
      "********************************\n",
      "252501    1337126400\n",
      "Name: Time, dtype: int64\n",
      "489266    1351209600\n",
      "Name: Time, dtype: int64\n"
     ]
    }
   ],
   "source": [
    "print(X_tr['Time'].head(1))\n",
    "print(X_tr['Time'].tail(1))\n",
    "\n",
    "print('********************************')\n",
    "\n",
    "print(X_test['Time'].head(1))\n",
    "print(X_test['Time'].tail(1))"
   ]
  },
  {
   "cell_type": "code",
   "execution_count": 37,
   "metadata": {},
   "outputs": [
    {
     "name": "stdout",
     "output_type": "stream",
     "text": [
      "The shape of train TFIDF vectorizer  (80000, 1331703)\n",
      "The shape of train text BOW after adding word_count  (80000, 1331704)\n"
     ]
    }
   ],
   "source": [
    "tf_idf_vect = TfidfVectorizer(ngram_range=(1,2))\n",
    "tf_idf_tr = tf_idf_vect.fit_transform(X_tr['CleanedText'].values)\n",
    "print(\"The shape of train TFIDF vectorizer \",tf_idf_tr.get_shape())\n",
    "\n",
    "# https://stackoverflow.com/questions/41927781/adding-pandas-columns-to-a-sparse-matrix\n",
    "from scipy.sparse import hstack\n",
    "final_train_tfidf = hstack((tf_idf_tr,np.array(X_tr['word_count'])[:,None]))\n",
    "print(\"The shape of train text BOW after adding word_count \",final_train_tfidf.get_shape())\n",
    "\n",
    "# Data-preprocessing: Standardizing the data\n",
    "from sklearn.preprocessing import StandardScaler\n",
    "x_scaled_tr = StandardScaler(with_mean=False).fit_transform(final_train_tfidf)"
   ]
  },
  {
   "cell_type": "code",
   "execution_count": 38,
   "metadata": {},
   "outputs": [
    {
     "name": "stdout",
     "output_type": "stream",
     "text": [
      "Resampled dataset shape Counter({0: 67756, 1: 67756})\n"
     ]
    }
   ],
   "source": [
    "# Balancing the train data\n",
    "from imblearn.over_sampling import SMOTE \n",
    "from collections import Counter\n",
    "\n",
    "sm = SMOTE(random_state=2)\n",
    "X_train_tfidf, y_train_tfidf = sm.fit_resample(x_scaled_tr, y_tr.ravel())\n",
    "print('Resampled dataset shape %s' % Counter(y_train_tfidf))"
   ]
  },
  {
   "cell_type": "code",
   "execution_count": 39,
   "metadata": {},
   "outputs": [
    {
     "name": "stdout",
     "output_type": "stream",
     "text": [
      "Train data before upsampling:  [(0, 12244), (1, 67756)]\n",
      "Train data after upsampling :  [(0, 67756), (1, 67756)]\n"
     ]
    }
   ],
   "source": [
    "print(\"Train data before upsampling: \",sorted(Counter(y_tr).items()))\n",
    "print(\"Train data after upsampling : \", sorted(Counter(y_train_tfidf).items()))"
   ]
  },
  {
   "cell_type": "code",
   "execution_count": 40,
   "metadata": {},
   "outputs": [
    {
     "name": "stdout",
     "output_type": "stream",
     "text": [
      "The shape of test TFIDF vectorizer  (20000, 1331703)\n",
      "The shape of train text BOW after adding word_count  (20000, 1331704)\n"
     ]
    }
   ],
   "source": [
    "tf_idf_test = tf_idf_vect.transform(X_test['CleanedText'].values)\n",
    "print(\"The shape of test TFIDF vectorizer \",tf_idf_test.get_shape())\n",
    "\n",
    "# https://stackoverflow.com/questions/41927781/adding-pandas-columns-to-a-sparse-matrix\n",
    "from scipy.sparse import hstack\n",
    "final_test_tfidf = hstack((tf_idf_test,np.array(X_test['word_count'])[:,None]))\n",
    "print(\"The shape of train text BOW after adding word_count \",final_test_tfidf.get_shape())\n",
    "\n",
    "# Data-preprocessing: Standardizing the data\n",
    "\n",
    "from sklearn.preprocessing import StandardScaler\n",
    "X_test_tfidf = StandardScaler(with_mean=False).fit_transform(final_test_tfidf)"
   ]
  },
  {
   "cell_type": "markdown",
   "metadata": {},
   "source": [
    "### [4.2.1] Applying Logistic Regression with L1 regularization on TFIDF "
   ]
  },
  {
   "cell_type": "code",
   "execution_count": 41,
   "metadata": {},
   "outputs": [
    {
     "name": "stdout",
     "output_type": "stream",
     "text": [
      "LogisticRegression(C=1, class_weight=None, dual=False, fit_intercept=True,\n",
      "          intercept_scaling=1, max_iter=100, multi_class='warn', n_jobs=-1,\n",
      "          penalty='l1', random_state=None, solver='warn', tol=0.0001,\n",
      "          verbose=0, warm_start=False)\n",
      "Training Accuracy: 0.9999931174348439\n",
      "Test Accuracy: 0.9532547890103552\n"
     ]
    },
    {
     "data": {
      "image/png": "[encoded data removed]",
      "text/plain": [
       "<Figure size 432x288 with 1 Axes>"
      ]
     },
     "metadata": {
      "needs_background": "light"
     },
     "output_type": "display_data"
    }
   ],
   "source": [
    "from sklearn.linear_model import LogisticRegression\n",
    "from sklearn.model_selection import GridSearchCV\n",
    "import warnings\n",
    "warnings.filterwarnings(\"ignore\")\n",
    "\n",
    "# define the parameter values that should be searched\n",
    "k_range = [10 ** x for x in range(-4,6)] \n",
    "param_grid = dict(C=k_range)\n",
    "\n",
    "# instantiate the grid\n",
    "LR = LogisticRegression(penalty= 'l1', n_jobs= -1)\n",
    "clf = GridSearchCV(LR, param_grid, cv=5,n_jobs= -1,scoring ='roc_auc')\n",
    "\n",
    "# fit the grid with data\n",
    "clf.fit(X_train_tfidf, y_train_tfidf)\n",
    "\n",
    "print(clf.best_estimator_)\n",
    "print(\"Training Accuracy:\", clf.score(X_train_tfidf,y_train_tfidf))\n",
    "print(\"Test Accuracy:\",clf.score(X_test_tfidf,y_test))\n",
    "\n",
    "train_auc = clf.cv_results_['mean_train_score']\n",
    "train_auc_std= clf.cv_results_['std_train_score']\n",
    "cv_auc = clf.cv_results_['mean_test_score'] \n",
    "cv_auc_std= clf.cv_results_['std_test_score']\n",
    "\n",
    "# plot the results\n",
    "\n",
    "plt.plot(k_range, train_auc, label='Train AUC')\n",
    "# this code is copied from here: https://stackoverflow.com/a/48803361/4084039\n",
    "plt.gca().fill_between(k_range,train_auc - train_auc_std,train_auc + train_auc_std,alpha=0.2,color='darkblue')\n",
    "\n",
    "plt.plot(k_range, cv_auc, label='CV AUC')\n",
    "# this code is copied from here: https://stackoverflow.com/a/48803361/4084039\n",
    "plt.gca().fill_between(k_range,cv_auc - cv_auc_std,cv_auc + cv_auc_std,alpha=0.2,color='darkorange')\n",
    "\n",
    "plt.xlabel('K: hyperparameter')\n",
    "plt.ylabel('AUC')\n",
    "plt.title('ERROR PLOTS')\n",
    "plt.legend()\n",
    "\n",
    "plt.show()"
   ]
  },
  {
   "cell_type": "code",
   "execution_count": 42,
   "metadata": {},
   "outputs": [
    {
     "name": "stdout",
     "output_type": "stream",
     "text": [
      "{'C': 1}\n",
      "AUC score on train data:  0.9999932087028377\n",
      "AUC score on test data:  0.9532558045836641\n"
     ]
    },
    {
     "data": {
      "image/png": "[encoded data removed]",
      "text/plain": [
       "<Figure size 432x288 with 1 Axes>"
      ]
     },
     "metadata": {
      "needs_background": "light"
     },
     "output_type": "display_data"
    },
    {
     "name": "stdout",
     "output_type": "stream",
     "text": [
      "====================================================================================================\n",
      "Train confusion matrix\n",
      "[[67756     0]\n",
      " [  209 67547]]\n",
      "Test confusion matrix\n",
      "[[ 2481   970]\n",
      " [  525 16024]]\n"
     ]
    }
   ],
   "source": [
    "from sklearn.metrics import roc_curve\n",
    "from sklearn.metrics import roc_auc_score\n",
    "\n",
    "# the best hyper parameter obtained \n",
    "print(clf.best_params_)\n",
    "optimal_C = clf.best_params_.get(\"C\")\n",
    "\n",
    "LR = LogisticRegression(C= optimal_C, penalty= 'l1', n_jobs= -1)\n",
    "LR.fit(X_train_tfidf, y_train_tfidf)\n",
    "\n",
    "y_pred_proba_train = LR.predict_proba(X_train_tfidf)[:,1]\n",
    "y_pred_proba_test = LR.predict_proba(X_test_tfidf)[:,1]\n",
    "train_fpr, train_tpr, thresholds = roc_curve(y_train_tfidf, y_pred_proba_train)\n",
    "test_fpr, test_tpr, thresholds = roc_curve(y_test, y_pred_proba_test)\n",
    "\n",
    "print(\"AUC score on train data: \",roc_auc_score(y_train_tfidf, y_pred_proba_train))\n",
    "print(\"AUC score on test data: \",roc_auc_score(y_test, y_pred_proba_test))\n",
    "\n",
    "plt.plot([0,1],[0,1],'k--')\n",
    "plt.plot(train_fpr,train_tpr, label=\"train AUC =\"+str(auc(train_fpr, train_tpr)))\n",
    "plt.plot(test_fpr,test_tpr, label=\"test AUC =\"+str(auc(test_fpr, test_tpr)))\n",
    "plt.xlabel('K: hyperparameter')\n",
    "plt.ylabel('AUC')\n",
    "plt.title('ERROR PLOTS')\n",
    "plt.legend()\n",
    "\n",
    "plt.show()\n",
    "\n",
    "print(\"=\"*100)\n",
    "\n",
    "from sklearn.metrics import confusion_matrix\n",
    "\n",
    "print(\"Train confusion matrix\")\n",
    "print(confusion_matrix(y_train_tfidf, LR.predict(X_train_tfidf)))\n",
    "print(\"Test confusion matrix\")\n",
    "print(confusion_matrix(y_test, LR.predict(X_test_tfidf)))"
   ]
  },
  {
   "cell_type": "code",
   "execution_count": 43,
   "metadata": {},
   "outputs": [
    {
     "name": "stdout",
     "output_type": "stream",
     "text": [
      "Confusion matrix for TRAIN data\n"
     ]
    },
    {
     "data": {
      "text/plain": [
       "<matplotlib.axes._subplots.AxesSubplot at 0x7f4492c3aac8>"
      ]
     },
     "execution_count": 43,
     "metadata": {},
     "output_type": "execute_result"
    },
    {
     "data": {
      "image/png": "[encoded data removed]",
      "text/plain": [
       "<Figure size 432x288 with 2 Axes>"
      ]
     },
     "metadata": {
      "needs_background": "light"
     },
     "output_type": "display_data"
    },
    {
     "data": {
      "image/png": "[encoded data removed]",
      "text/plain": [
       "<Figure size 432x288 with 2 Axes>"
      ]
     },
     "metadata": {
      "needs_background": "light"
     },
     "output_type": "display_data"
    }
   ],
   "source": [
    "import scikitplot as skplt\n",
    "\n",
    "print(\"Confusion matrix for TRAIN data\")\n",
    "skplt.metrics.plot_confusion_matrix(y_train_tfidf, LR.predict(X_train_tfidf))\n",
    "skplt.metrics.plot_confusion_matrix(y_train_tfidf, LR.predict(X_train_tfidf), normalize=True)"
   ]
  },
  {
   "cell_type": "code",
   "execution_count": 44,
   "metadata": {},
   "outputs": [
    {
     "name": "stdout",
     "output_type": "stream",
     "text": [
      "Confusion matrix for TEST data\n"
     ]
    },
    {
     "data": {
      "text/plain": [
       "<matplotlib.axes._subplots.AxesSubplot at 0x7f44948eeb70>"
      ]
     },
     "execution_count": 44,
     "metadata": {},
     "output_type": "execute_result"
    },
    {
     "data": {
      "image/png": "[encoded data removed]",
      "text/plain": [
       "<Figure size 432x288 with 2 Axes>"
      ]
     },
     "metadata": {
      "needs_background": "light"
     },
     "output_type": "display_data"
    },
    {
     "data": {
      "image/png": "[encoded data removed]",
      "text/plain": [
       "<Figure size 432x288 with 2 Axes>"
      ]
     },
     "metadata": {
      "needs_background": "light"
     },
     "output_type": "display_data"
    }
   ],
   "source": [
    "print(\"Confusion matrix for TEST data\")\n",
    "skplt.metrics.plot_confusion_matrix(y_test, LR.predict(X_test_tfidf))\n",
    "skplt.metrics.plot_confusion_matrix(y_test, LR.predict(X_test_tfidf), normalize=True)"
   ]
  },
  {
   "cell_type": "markdown",
   "metadata": {},
   "source": [
    "### [4.2.2] Applying Logistic Regression with L2 regularization on TFIDF"
   ]
  },
  {
   "cell_type": "code",
   "execution_count": 45,
   "metadata": {},
   "outputs": [
    {
     "name": "stdout",
     "output_type": "stream",
     "text": [
      "LogisticRegression(C=0.0001, class_weight=None, dual=False,\n",
      "          fit_intercept=True, intercept_scaling=1, max_iter=100,\n",
      "          multi_class='warn', n_jobs=-1, penalty='l2', random_state=None,\n",
      "          solver='warn', tol=0.0001, verbose=0, warm_start=False)\n",
      "Training Accuracy: 0.9999909259138757\n",
      "Test Accuracy: 0.9350114941011212\n"
     ]
    },
    {
     "data": {
      "image/png": "[encoded data removed]",
      "text/plain": [
       "<Figure size 432x288 with 1 Axes>"
      ]
     },
     "metadata": {
      "needs_background": "light"
     },
     "output_type": "display_data"
    }
   ],
   "source": [
    "from sklearn.linear_model import LogisticRegression\n",
    "from sklearn.model_selection import GridSearchCV\n",
    "import warnings\n",
    "warnings.filterwarnings(\"ignore\")\n",
    "\n",
    "# define the parameter values that should be searched\n",
    "k_range = [10 ** x for x in range(-4,6)] \n",
    "param_grid = dict(C=k_range)\n",
    "\n",
    "# instantiate the grid\n",
    "LR = LogisticRegression(penalty= 'l2', n_jobs= -1)\n",
    "clf = GridSearchCV(LR, param_grid, cv=5,n_jobs= -1,scoring ='roc_auc')\n",
    "\n",
    "# fit the grid with data\n",
    "clf.fit(X_train_tfidf, y_train_tfidf)\n",
    "\n",
    "print(clf.best_estimator_)\n",
    "print(\"Training Accuracy:\", clf.score(X_train_tfidf,y_train_tfidf))\n",
    "print(\"Test Accuracy:\",clf.score(X_test_tfidf,y_test))\n",
    "\n",
    "train_auc = clf.cv_results_['mean_train_score']\n",
    "train_auc_std= clf.cv_results_['std_train_score']\n",
    "cv_auc = clf.cv_results_['mean_test_score'] \n",
    "cv_auc_std= clf.cv_results_['std_test_score']\n",
    "\n",
    "# plot the results\n",
    "\n",
    "plt.plot(k_range, train_auc, label='Train AUC')\n",
    "# this code is copied from here: https://stackoverflow.com/a/48803361/4084039\n",
    "plt.gca().fill_between(k_range,train_auc - train_auc_std,train_auc + train_auc_std,alpha=0.2,color='darkblue')\n",
    "\n",
    "plt.plot(k_range, cv_auc, label='CV AUC')\n",
    "# this code is copied from here: https://stackoverflow.com/a/48803361/4084039\n",
    "plt.gca().fill_between(k_range,cv_auc - cv_auc_std,cv_auc + cv_auc_std,alpha=0.2,color='darkorange')\n",
    "\n",
    "plt.xlabel('K: hyperparameter')\n",
    "plt.ylabel('AUC')\n",
    "plt.title('ERROR PLOTS')\n",
    "plt.legend()\n",
    "\n",
    "plt.show()"
   ]
  },
  {
   "cell_type": "code",
   "execution_count": 46,
   "metadata": {},
   "outputs": [
    {
     "name": "stdout",
     "output_type": "stream",
     "text": [
      "{'C': 0.0001}\n",
      "AUC score on train data:  0.9999909259138757\n",
      "AUC score on test data:  0.9350114941011212\n"
     ]
    },
    {
     "data": {
      "image/png": "[encoded data removed]",
      "text/plain": [
       "<Figure size 432x288 with 1 Axes>"
      ]
     },
     "metadata": {
      "needs_background": "light"
     },
     "output_type": "display_data"
    },
    {
     "name": "stdout",
     "output_type": "stream",
     "text": [
      "====================================================================================================\n",
      "Train confusion matrix\n",
      "[[67748     8]\n",
      " [  209 67547]]\n",
      "Test confusion matrix\n",
      "[[ 1905  1546]\n",
      " [  227 16322]]\n"
     ]
    }
   ],
   "source": [
    "from sklearn.metrics import roc_curve\n",
    "from sklearn.metrics import roc_auc_score\n",
    "\n",
    "# the best hyper parameter obtained \n",
    "print(clf.best_params_)\n",
    "optimal_C = clf.best_params_.get(\"C\")\n",
    "\n",
    "LR = LogisticRegression(C= optimal_C, penalty= 'l2', n_jobs= -1)\n",
    "LR.fit(X_train_tfidf, y_train_tfidf)\n",
    "\n",
    "y_pred_proba_train = LR.predict_proba(X_train_tfidf)[:,1]\n",
    "y_pred_proba_test = LR.predict_proba(X_test_tfidf)[:,1]\n",
    "train_fpr, train_tpr, thresholds = roc_curve(y_train_tfidf, y_pred_proba_train)\n",
    "test_fpr, test_tpr, thresholds = roc_curve(y_test, y_pred_proba_test)\n",
    "\n",
    "print(\"AUC score on train data: \",roc_auc_score(y_train_tfidf, y_pred_proba_train))\n",
    "print(\"AUC score on test data: \",roc_auc_score(y_test, y_pred_proba_test))\n",
    "\n",
    "plt.plot([0,1],[0,1],'k--')\n",
    "plt.plot(train_fpr,train_tpr, label=\"train AUC =\"+str(auc(train_fpr, train_tpr)))\n",
    "plt.plot(test_fpr,test_tpr, label=\"test AUC =\"+str(auc(test_fpr, test_tpr)))\n",
    "plt.xlabel('K: hyperparameter')\n",
    "plt.ylabel('AUC')\n",
    "plt.title('ERROR PLOTS')\n",
    "plt.legend()\n",
    "\n",
    "plt.show()\n",
    "\n",
    "print(\"=\"*100)\n",
    "\n",
    "from sklearn.metrics import confusion_matrix\n",
    "\n",
    "print(\"Train confusion matrix\")\n",
    "print(confusion_matrix(y_train_tfidf, LR.predict(X_train_tfidf)))\n",
    "print(\"Test confusion matrix\")\n",
    "print(confusion_matrix(y_test, LR.predict(X_test_tfidf)))"
   ]
  },
  {
   "cell_type": "code",
   "execution_count": 47,
   "metadata": {},
   "outputs": [
    {
     "name": "stdout",
     "output_type": "stream",
     "text": [
      "Confusion matrix for TRAIN data\n"
     ]
    },
    {
     "data": {
      "text/plain": [
       "<matplotlib.axes._subplots.AxesSubplot at 0x7f4496293668>"
      ]
     },
     "execution_count": 47,
     "metadata": {},
     "output_type": "execute_result"
    },
    {
     "data": {
      "image/png": "[encoded data removed]",
      "text/plain": [
       "<Figure size 432x288 with 2 Axes>"
      ]
     },
     "metadata": {
      "needs_background": "light"
     },
     "output_type": "display_data"
    },
    {
     "data": {
      "image/png": "[encoded data removed]",
      "text/plain": [
       "<Figure size 432x288 with 2 Axes>"
      ]
     },
     "metadata": {
      "needs_background": "light"
     },
     "output_type": "display_data"
    }
   ],
   "source": [
    "import scikitplot as skplt\n",
    "\n",
    "print(\"Confusion matrix for TRAIN data\")\n",
    "skplt.metrics.plot_confusion_matrix(y_train_tfidf, LR.predict(X_train_tfidf))\n",
    "skplt.metrics.plot_confusion_matrix(y_train_tfidf, LR.predict(X_train_tfidf), normalize=True)"
   ]
  },
  {
   "cell_type": "code",
   "execution_count": 48,
   "metadata": {},
   "outputs": [
    {
     "name": "stdout",
     "output_type": "stream",
     "text": [
      "Confusion matrix for TEST data\n"
     ]
    },
    {
     "data": {
      "text/plain": [
       "<matplotlib.axes._subplots.AxesSubplot at 0x7f4492275048>"
      ]
     },
     "execution_count": 48,
     "metadata": {},
     "output_type": "execute_result"
    },
    {
     "data": {
      "image/png": "[encoded data removed]",
      "text/plain": [
       "<Figure size 432x288 with 2 Axes>"
      ]
     },
     "metadata": {
      "needs_background": "light"
     },
     "output_type": "display_data"
    },
    {
     "data": {
      "image/png": "[encoded data removed]",
      "text/plain": [
       "<Figure size 432x288 with 2 Axes>"
      ]
     },
     "metadata": {
      "needs_background": "light"
     },
     "output_type": "display_data"
    }
   ],
   "source": [
    "print(\"Confusion matrix for TEST data\")\n",
    "skplt.metrics.plot_confusion_matrix(y_test, LR.predict(X_test_tfidf))\n",
    "skplt.metrics.plot_confusion_matrix(y_test, LR.predict(X_test_tfidf), normalize=True)"
   ]
  },
  {
   "cell_type": "markdown",
   "metadata": {},
   "source": [
    "### [4.2.3] Feature Importance on TFIDF"
   ]
  },
  {
   "cell_type": "code",
   "execution_count": 49,
   "metadata": {
    "scrolled": false
   },
   "outputs": [
    {
     "name": "stdout",
     "output_type": "stream",
     "text": [
      "The informative features are below: \n",
      "\t-0.0328\tnot buy        \t\t\t0.0734\tgreat          \n",
      "\t-0.0310\tworst          \t\t\t0.0542\tgood           \n",
      "\t-0.0292\twaste money    \t\t\t0.0504\tbest           \n",
      "\t-0.0286\tnot recommend  \t\t\t0.0464\tlove           \n",
      "\t-0.0277\tnot worth      \t\t\t0.0412\tdelicious      \n",
      "\t-0.0276\tdisappointed   \t\t\t0.0334\tfavorite       \n",
      "\t-0.0272\twould not      \t\t\t0.0333\tfind           \n",
      "\t-0.0265\twaste          \t\t\t0.0324\tperfect        \n",
      "\t-0.0262\tterrible       \t\t\t0.0321\texcellent      \n",
      "\t-0.0257\tnot good       \t\t\t0.0315\tloves          \n"
     ]
    }
   ],
   "source": [
    "#https://stackoverflow.com/questions/11116697/how-to-get-most-informative-features-for-scikit-learn-classifiers\n",
    "\n",
    "def feature_importance(vectorizer, clf, n=10):\n",
    "    feature_names = vectorizer.get_feature_names()\n",
    "    coefs_with_fns = sorted(zip(clf.coef_ [0], feature_names))\n",
    "    top = zip(coefs_with_fns[:n], coefs_with_fns[:-(n + 1):-1])\n",
    "    print(\"The informative features are below: \")\n",
    "    for (coef_1, fn_1), (coef_2, fn_2) in top:\n",
    "        print(\"\\t%.4f\\t%-15s\\t\\t\\t%.4f\\t%-15s\" % (coef_1, fn_1, coef_2, fn_2))\n",
    "\n",
    "feature_importance(tf_idf_vect, LR)"
   ]
  },
  {
   "cell_type": "markdown",
   "metadata": {},
   "source": [
    "### [4.2.4] Performing pertubation test (multicollinearity check) on TFIDF"
   ]
  },
  {
   "cell_type": "code",
   "execution_count": 50,
   "metadata": {},
   "outputs": [
    {
     "name": "stdout",
     "output_type": "stream",
     "text": [
      "The shape of X_train is:  (50000, 10000)\n",
      "The weight vector of the model is:  [[0.00034111 0.         0.0038186  ... 0.00307688 0.00459526 0.        ]]\n"
     ]
    }
   ],
   "source": [
    "# Taking 50k points from our dataset\n",
    "\n",
    "X_train_tfidf_50k = X_train_tfidf[:50000,:10000]\n",
    "y_train_tfidf_50k = y_train_tfidf[:50000]\n",
    "print(\"The shape of X_train is: \",X_train_tfidf_50k.shape)\n",
    "\n",
    "# Train the model with optimal C obtained from L2 reg\n",
    "LReg = LogisticRegression(C= optimal_C, penalty= 'l2', n_jobs= -1)\n",
    "LReg.fit(X_train_tfidf_50k, y_train_tfidf_50k)\n",
    "weight = LReg.coef_\n",
    "print(\"The weight vector of the model is: \",weight)\n",
    "\n",
    "# Adding a small error to the training dataset\n",
    "X_train_tfidf_M2 = (X_train_tfidf_50k.toarray()) + 0.001"
   ]
  },
  {
   "cell_type": "code",
   "execution_count": 51,
   "metadata": {},
   "outputs": [
    {
     "name": "stdout",
     "output_type": "stream",
     "text": [
      "The weight vector of the new model is:  [[0.00037363 0.00074458 0.00419864 ... 0.00353108 0.00503831 0.00074458]]\n"
     ]
    }
   ],
   "source": [
    "# Training the model with the new dataset\n",
    "\n",
    "LReg_new = LogisticRegression(C= optimal_C, penalty= 'l2', n_jobs= -1)\n",
    "LReg_new.fit(X_train_tfidf_M2, y_train_tfidf_50k)\n",
    "weight_new = LReg_new.coef_\n",
    "print(\"The weight vector of the new model is: \",weight_new)"
   ]
  },
  {
   "cell_type": "code",
   "execution_count": 52,
   "metadata": {},
   "outputs": [
    {
     "name": "stdout",
     "output_type": "stream",
     "text": [
      "New weight values of the model:  [[3.42108261e-04 1.00000000e-06 3.81959858e-03 ... 3.07787952e-03\n",
      "  4.59625990e-03 1.00000000e-06]]\n",
      "New weight values of new the model:  [[0.00037463 0.00074558 0.00419964 ... 0.00353208 0.00503931 0.00074558]]\n"
     ]
    }
   ],
   "source": [
    "# Adding a small eps value to eliminate the divisible by zero error\n",
    "\n",
    "weight_1 = weight + 10**-6 \n",
    "weight_new_1 = weight_new + 10**-6\n",
    "print(\"New weight values of the model: \",weight_1)\n",
    "print(\"New weight values of new the model: \",weight_new_1)"
   ]
  },
  {
   "cell_type": "code",
   "execution_count": 54,
   "metadata": {},
   "outputs": [
    {
     "name": "stdout",
     "output_type": "stream",
     "text": [
      "The percentage change between the two weight vectors:  [[9.50596746e+00 7.44580981e+04 9.94980852e+00 ... 1.47568711e+01\n",
      "  9.63934696e+00 7.44580981e+04]]\n"
     ]
    }
   ],
   "source": [
    "# calculating the % change between weight_1 and weight_new_1\n",
    "\n",
    "percentage_change=  (abs((weight_1-weight_new_1) / (weight_1))*100)\n",
    "print(\"The percentage change between the two weight vectors: \",percentage_change)\n",
    "\n",
    "# Sorting the values\n",
    "percentage_change_sorted = sorted(percentage_change[0], reverse=True)"
   ]
  },
  {
   "cell_type": "code",
   "execution_count": 57,
   "metadata": {},
   "outputs": [
    {
     "data": {
      "image/png": "[encoded data removed]",
      "text/plain": [
       "<Figure size 432x288 with 1 Axes>"
      ]
     },
     "metadata": {
      "needs_background": "light"
     },
     "output_type": "display_data"
    }
   ],
   "source": [
    "# Plotting the graph using elbow method\n",
    "\n",
    "X= [0,10,20,30,40,50,60,70,80,90,91,92,93,94,95,96,97,98,99,100]\n",
    "\n",
    "Y1 = np.percentile(percentage_change_sorted,np.arange(0, 100, 10))\n",
    "Y2 = np.percentile(percentage_change_sorted,np.arange(90, 100, 1))\n",
    "Y = np.concatenate((Y1,Y2))               \n",
    "\n",
    "plt.plot(X,Y, marker='o', color='r')\n",
    "plt.xlabel(\"Percentiles\", fontsize=12)\n",
    "plt.ylabel(\"Variation\",fontsize=12)\n",
    "plt.title(\"Variation between the two weight vectors\",fontsize=13)\n",
    "\n",
    "plt.show()\n"
   ]
  },
  {
   "cell_type": "code",
   "execution_count": 59,
   "metadata": {},
   "outputs": [
    {
     "name": "stdout",
     "output_type": "stream",
     "text": [
      "There is a sudden rise of value after 60th percentile.\n",
      "The 60th percentile value is:  22.73006474459595\n"
     ]
    }
   ],
   "source": [
    "print(\"There is a sudden rise of value after 60th percentile.\")\n",
    "print(\"The 60th percentile value is: \",np.percentile(percentage_change_sorted,60))"
   ]
  },
  {
   "cell_type": "markdown",
   "metadata": {},
   "source": [
    "## [4.3] Logistic Regression on AVG W2V"
   ]
  },
  {
   "cell_type": "code",
   "execution_count": 37,
   "metadata": {},
   "outputs": [],
   "source": [
    "# Train the Word2Vec model using text corpus\n",
    "i=0\n",
    "list_of_sent_train=[]\n",
    "list_of_sent_test=[]\n",
    "for sent in X_tr['CleanedText'].values:\n",
    "    list_of_sent_train.append(sent.split())\n",
    "    \n",
    "for sent in X_test['CleanedText'].values:\n",
    "    list_of_sent_test.append(sent.split())"
   ]
  },
  {
   "cell_type": "code",
   "execution_count": 38,
   "metadata": {},
   "outputs": [
    {
     "name": "stdout",
     "output_type": "stream",
     "text": [
      "really good idea final product outstanding use decals car window everybody asks bought decals made two thumbs\n",
      "*****************************************************************\n",
      "['really', 'good', 'idea', 'final', 'product', 'outstanding', 'use', 'decals', 'car', 'window', 'everybody', 'asks', 'bought', 'decals', 'made', 'two', 'thumbs']\n",
      "*****************************************************************\n",
      "gluten free yrs tried every pasta created gluten free tinkyada hands best serve time gluten friendly friends never believe gluten free retains al dente bite holds even stored eaten later cook mine min shy lowest time recommended keep tasting cooks rinse cold water toss whatever going perfect every time\n",
      "*****************************************************************\n",
      "['gluten', 'free', 'yrs', 'tried', 'every', 'pasta', 'created', 'gluten', 'free', 'tinkyada', 'hands', 'best', 'serve', 'time', 'gluten', 'friendly', 'friends', 'never', 'believe', 'gluten', 'free', 'retains', 'al', 'dente', 'bite', 'holds', 'even', 'stored', 'eaten', 'later', 'cook', 'mine', 'min', 'shy', 'lowest', 'time', 'recommended', 'keep', 'tasting', 'cooks', 'rinse', 'cold', 'water', 'toss', 'whatever', 'going', 'perfect', 'every', 'time']\n"
     ]
    }
   ],
   "source": [
    "# Train data\n",
    "print(X_tr['CleanedText'].values[0])\n",
    "print(\"*****************************************************************\")\n",
    "print(list_of_sent_train[0])\n",
    "print(\"*****************************************************************\")\n",
    "\n",
    "# Test data\n",
    "print(X_test['CleanedText'].values[0])\n",
    "print(\"*****************************************************************\")\n",
    "print(list_of_sent_test[0])"
   ]
  },
  {
   "cell_type": "code",
   "execution_count": 39,
   "metadata": {},
   "outputs": [],
   "source": [
    "# min_count = 5 considers only words that occured atleast 5 times\n",
    "w2v_model_train=Word2Vec(list_of_sent_train,min_count=5,size=50, workers=4)\n",
    "w2v_model_test=Word2Vec(list_of_sent_test,min_count=5,size=50, workers=4)"
   ]
  },
  {
   "cell_type": "code",
   "execution_count": 40,
   "metadata": {},
   "outputs": [
    {
     "name": "stdout",
     "output_type": "stream",
     "text": [
      "Number of words that occured minimum 5 times in the train data:  16983\n",
      "Number of words that occured minimum 5 times in the test data:  8677\n",
      "Sample words in train data:  ['impressed', 'triple', 'feared', 'algae', 'crosses', 'rack', 'pureed', 'soyajoy', 'verdict', 'stretching', 'sincere', 'wedges', 'dextrose', 'thanking', 'au', 'held', 'mama', 'tartar', 'choosing', 'stockpiling', 'extending', 'retail', 'smells', 'rancilio', 'solution', 'shielded', 'vault', 'trigger', 'chomp', 'ambrosoli', 'frizzy', 'biggest', 'ocean', 'durable', 'resisting', 'ticket', 'diglycerides', 'wholesale', 'monitored', 'temptation', 'ridgeback', 'accidental', 'byproducts', 'oder', 'fluff', 'instruction', 'spoken', 'raisons', 'mono', 'beaver']\n"
     ]
    }
   ],
   "source": [
    "w2v_words_train = list(w2v_model_train.wv.vocab)\n",
    "w2v_words_test = list(w2v_model_test.wv.vocab)\n",
    "print(\"Number of words that occured minimum 5 times in the train data: \",len(w2v_words_train))\n",
    "print(\"Number of words that occured minimum 5 times in the test data: \",len(w2v_words_test))\n",
    "print(\"Sample words in train data: \", w2v_words_train[0:50])"
   ]
  },
  {
   "cell_type": "code",
   "execution_count": 41,
   "metadata": {},
   "outputs": [
    {
     "data": {
      "text/plain": [
       "[('flavor', 0.8500871062278748),\n",
       " ('tastes', 0.7996683120727539),\n",
       " ('aftertaste', 0.7852973341941833),\n",
       " ('tasting', 0.745978832244873),\n",
       " ('flavour', 0.7192125916481018),\n",
       " ('sounds', 0.6723398566246033),\n",
       " ('overpowering', 0.6537185907363892),\n",
       " ('hint', 0.6534652709960938),\n",
       " ('flavoring', 0.6529369354248047),\n",
       " ('gritty', 0.6150130033493042)]"
      ]
     },
     "execution_count": 41,
     "metadata": {},
     "output_type": "execute_result"
    }
   ],
   "source": [
    "w2v_model_train.wv.most_similar('taste')"
   ]
  },
  {
   "cell_type": "code",
   "execution_count": 65,
   "metadata": {},
   "outputs": [
    {
     "name": "stderr",
     "output_type": "stream",
     "text": [
      "100%|██████████| 80000/80000 [17:59<00:00, 74.14it/s] "
     ]
    },
    {
     "name": "stdout",
     "output_type": "stream",
     "text": [
      "80000\n",
      "50\n"
     ]
    },
    {
     "name": "stderr",
     "output_type": "stream",
     "text": [
      "\n"
     ]
    }
   ],
   "source": [
    "# average Word2Vec for train data\n",
    "# compute average word2vec for each review.\n",
    "sent_vectors_train = []; # the avg-w2v for each sentence/review is stored in this list\n",
    "for sent in tqdm(list_of_sent_train): # for each review/sentence\n",
    "    sent_vec = np.zeros(50) # as word vectors are of zero length\n",
    "    cnt_words =0; # num of words with a valid vector in the sentence/review\n",
    "    for word in sent: # for each word in a review/sentence\n",
    "        if word in w2v_words_train:\n",
    "            vec = w2v_model_train.wv[word]\n",
    "            sent_vec += vec\n",
    "            cnt_words += 1\n",
    "    if cnt_words != 0:\n",
    "        sent_vec /= cnt_words\n",
    "    sent_vectors_train.append(sent_vec)\n",
    "print(len(sent_vectors_train))\n",
    "print(len(sent_vectors_train[0]))"
   ]
  },
  {
   "cell_type": "code",
   "execution_count": 66,
   "metadata": {},
   "outputs": [
    {
     "name": "stdout",
     "output_type": "stream",
     "text": [
      "Resampled dataset shape Counter({0: 67756, 1: 67756})\n"
     ]
    }
   ],
   "source": [
    "# Balancing the train data\n",
    "from imblearn.over_sampling import BorderlineSMOTE \n",
    "from collections import Counter\n",
    "\n",
    "sm = BorderlineSMOTE(random_state=2)\n",
    "X_train_w2v, y_train_w2v = sm.fit_resample(sent_vectors_train, y_tr.ravel())\n",
    "print('Resampled dataset shape %s' % Counter(y_train_w2v))"
   ]
  },
  {
   "cell_type": "code",
   "execution_count": 67,
   "metadata": {},
   "outputs": [
    {
     "name": "stdout",
     "output_type": "stream",
     "text": [
      "Train data before upsampling:  [(0, 12244), (1, 67756)]\n",
      "Train data after upsampling :  [(0, 67756), (1, 67756)]\n"
     ]
    }
   ],
   "source": [
    "print(\"Train data before upsampling: \",sorted(Counter(y_tr).items()))\n",
    "print(\"Train data after upsampling : \", sorted(Counter(y_train_w2v).items()))"
   ]
  },
  {
   "cell_type": "code",
   "execution_count": 68,
   "metadata": {},
   "outputs": [
    {
     "name": "stderr",
     "output_type": "stream",
     "text": [
      "100%|██████████| 20000/20000 [01:41<00:00, 197.61it/s]"
     ]
    },
    {
     "name": "stdout",
     "output_type": "stream",
     "text": [
      "20000\n",
      "50\n"
     ]
    },
    {
     "name": "stderr",
     "output_type": "stream",
     "text": [
      "\n"
     ]
    }
   ],
   "source": [
    "# average Word2Vec for test data\n",
    "# compute average word2vec for each review.\n",
    "sent_vectors_test = []; # the avg-w2v for each sentence/review is stored in this list\n",
    "for sent in tqdm(list_of_sent_test): # for each review/sentence\n",
    "    sent_vec = np.zeros(50) # as word vectors are of zero length\n",
    "    cnt_words =0; # num of words with a valid vector in the sentence/review\n",
    "    for word in sent: # for each word in a review/sentence\n",
    "        if word in w2v_words_test:\n",
    "            vec = w2v_model_test.wv[word]\n",
    "            sent_vec += vec\n",
    "            cnt_words += 1\n",
    "    if cnt_words != 0:\n",
    "        sent_vec /= cnt_words\n",
    "    sent_vectors_test.append(sent_vec)\n",
    "print(len(sent_vectors_test))\n",
    "print(len(sent_vectors_test[0]))"
   ]
  },
  {
   "cell_type": "code",
   "execution_count": 69,
   "metadata": {},
   "outputs": [],
   "source": [
    "# Data-preprocessing: Standardizing both train and test data\n",
    "\n",
    "from sklearn.preprocessing import StandardScaler\n",
    "standardized_data_train = StandardScaler().fit_transform(X_train_w2v)\n",
    "standardized_data_test = StandardScaler().fit_transform(sent_vectors_test)"
   ]
  },
  {
   "cell_type": "markdown",
   "metadata": {},
   "source": [
    "### [4.3.1] Applying Logistic Regression with L1 regularization on AVG W2V"
   ]
  },
  {
   "cell_type": "code",
   "execution_count": 70,
   "metadata": {},
   "outputs": [
    {
     "name": "stdout",
     "output_type": "stream",
     "text": [
      "LogisticRegression(C=0.1, class_weight=None, dual=False, fit_intercept=True,\n",
      "          intercept_scaling=1, max_iter=100, multi_class='warn', n_jobs=-1,\n",
      "          penalty='l1', random_state=None, solver='warn', tol=0.0001,\n",
      "          verbose=0, warm_start=False)\n",
      "Training Accuracy: 0.9159942993497002\n",
      "Test Accuracy: 0.8059691687001918\n"
     ]
    },
    {
     "data": {
      "image/png": "[encoded data removed]",
      "text/plain": [
       "<Figure size 432x288 with 1 Axes>"
      ]
     },
     "metadata": {
      "needs_background": "light"
     },
     "output_type": "display_data"
    }
   ],
   "source": [
    "from sklearn.linear_model import LogisticRegression\n",
    "from sklearn.model_selection import GridSearchCV\n",
    "import warnings\n",
    "warnings.filterwarnings(\"ignore\")\n",
    "\n",
    "# define the parameter values that should be searched\n",
    "k_range = [10 ** x for x in range(-4,6)] \n",
    "param_grid = dict(C=k_range)\n",
    "\n",
    "# instantiate the grid\n",
    "LR = LogisticRegression(penalty= 'l1', n_jobs= -1)\n",
    "clf = GridSearchCV(LR, param_grid, cv=5,n_jobs= -1,scoring ='roc_auc')\n",
    "\n",
    "# fit the grid with data\n",
    "clf.fit(standardized_data_train, y_train_w2v)\n",
    "\n",
    "print(clf.best_estimator_)\n",
    "print(\"Training Accuracy:\", clf.score(standardized_data_train,y_train_w2v))\n",
    "print(\"Test Accuracy:\",clf.score(standardized_data_test,y_test))\n",
    "\n",
    "train_auc = clf.cv_results_['mean_train_score']\n",
    "train_auc_std= clf.cv_results_['std_train_score']\n",
    "cv_auc = clf.cv_results_['mean_test_score'] \n",
    "cv_auc_std= clf.cv_results_['std_test_score']\n",
    "\n",
    "# plot the results\n",
    "\n",
    "plt.plot(k_range, train_auc, label='Train AUC')\n",
    "# this code is copied from here: https://stackoverflow.com/a/48803361/4084039\n",
    "plt.gca().fill_between(k_range,train_auc - train_auc_std,train_auc + train_auc_std,alpha=0.2,color='darkblue')\n",
    "\n",
    "plt.plot(k_range, cv_auc, label='CV AUC')\n",
    "# this code is copied from here: https://stackoverflow.com/a/48803361/4084039\n",
    "plt.gca().fill_between(k_range,cv_auc - cv_auc_std,cv_auc + cv_auc_std,alpha=0.2,color='darkorange')\n",
    "\n",
    "plt.xlabel('K: hyperparameter')\n",
    "plt.ylabel('AUC')\n",
    "plt.title('ERROR PLOTS')\n",
    "plt.legend()\n",
    "\n",
    "plt.show()"
   ]
  },
  {
   "cell_type": "code",
   "execution_count": 71,
   "metadata": {},
   "outputs": [
    {
     "name": "stdout",
     "output_type": "stream",
     "text": [
      "{'C': 0.1}\n",
      "AUC score on train data:  0.9159905915602239\n",
      "AUC score on test data:  0.805827373654407\n"
     ]
    },
    {
     "data": {
      "image/png": "[encoded data removed]",
      "text/plain": [
       "<Figure size 432x288 with 1 Axes>"
      ]
     },
     "metadata": {
      "needs_background": "light"
     },
     "output_type": "display_data"
    },
    {
     "name": "stdout",
     "output_type": "stream",
     "text": [
      "====================================================================================================\n",
      "Train confusion matrix\n",
      "[[59624  8132]\n",
      " [12538 55218]]\n",
      "Test confusion matrix\n",
      "[[ 2878   573]\n",
      " [ 6532 10017]]\n"
     ]
    }
   ],
   "source": [
    "from sklearn.metrics import roc_curve\n",
    "from sklearn.metrics import roc_auc_score\n",
    "\n",
    "# the best hyper parameter obtained \n",
    "print(clf.best_params_)\n",
    "optimal_C = clf.best_params_.get(\"C\")\n",
    "\n",
    "LR = LogisticRegression(C= optimal_C, penalty= 'l1', n_jobs= -1)\n",
    "LR.fit(standardized_data_train, y_train_w2v)\n",
    "\n",
    "y_pred_proba_train = LR.predict_proba(standardized_data_train)[:,1]\n",
    "y_pred_proba_test = LR.predict_proba(standardized_data_test)[:,1]\n",
    "train_fpr, train_tpr, thresholds = roc_curve(y_train_w2v, y_pred_proba_train)\n",
    "test_fpr, test_tpr, thresholds = roc_curve(y_test, y_pred_proba_test)\n",
    "\n",
    "print(\"AUC score on train data: \",roc_auc_score(y_train_w2v, y_pred_proba_train))\n",
    "print(\"AUC score on test data: \",roc_auc_score(y_test, y_pred_proba_test))\n",
    "\n",
    "plt.plot([0,1],[0,1],'k--')\n",
    "plt.plot(train_fpr,train_tpr, label=\"train AUC =\"+str(auc(train_fpr, train_tpr)))\n",
    "plt.plot(test_fpr,test_tpr, label=\"test AUC =\"+str(auc(test_fpr, test_tpr)))\n",
    "plt.xlabel('K: hyperparameter')\n",
    "plt.ylabel('AUC')\n",
    "plt.title('ERROR PLOTS')\n",
    "plt.legend()\n",
    "\n",
    "plt.show()\n",
    "\n",
    "print(\"=\"*100)\n",
    "\n",
    "from sklearn.metrics import confusion_matrix\n",
    "\n",
    "print(\"Train confusion matrix\")\n",
    "print(confusion_matrix(y_train_w2v, LR.predict(standardized_data_train)))\n",
    "print(\"Test confusion matrix\")\n",
    "print(confusion_matrix(y_test, LR.predict(standardized_data_test)))"
   ]
  },
  {
   "cell_type": "code",
   "execution_count": 72,
   "metadata": {},
   "outputs": [
    {
     "name": "stdout",
     "output_type": "stream",
     "text": [
      "Confusion matrix for TRAIN data\n"
     ]
    },
    {
     "data": {
      "text/plain": [
       "<matplotlib.axes._subplots.AxesSubplot at 0x7f436e31a198>"
      ]
     },
     "execution_count": 72,
     "metadata": {},
     "output_type": "execute_result"
    },
    {
     "data": {
      "image/png": "[encoded data removed]",
      "text/plain": [
       "<Figure size 432x288 with 2 Axes>"
      ]
     },
     "metadata": {
      "needs_background": "light"
     },
     "output_type": "display_data"
    },
    {
     "data": {
      "image/png": "[encoded data removed]",
      "text/plain": [
       "<Figure size 432x288 with 2 Axes>"
      ]
     },
     "metadata": {
      "needs_background": "light"
     },
     "output_type": "display_data"
    }
   ],
   "source": [
    "import scikitplot as skplt\n",
    "\n",
    "print(\"Confusion matrix for TRAIN data\")\n",
    "skplt.metrics.plot_confusion_matrix(y_train_w2v, LR.predict(standardized_data_train))\n",
    "skplt.metrics.plot_confusion_matrix(y_train_w2v, LR.predict(standardized_data_train), normalize=True)"
   ]
  },
  {
   "cell_type": "code",
   "execution_count": 73,
   "metadata": {},
   "outputs": [
    {
     "name": "stdout",
     "output_type": "stream",
     "text": [
      "Confusion matrix for TEST data\n"
     ]
    },
    {
     "data": {
      "text/plain": [
       "<matplotlib.axes._subplots.AxesSubplot at 0x7f436c21d080>"
      ]
     },
     "execution_count": 73,
     "metadata": {},
     "output_type": "execute_result"
    },
    {
     "data": {
      "image/png": "[encoded data removed]",
      "text/plain": [
       "<Figure size 432x288 with 2 Axes>"
      ]
     },
     "metadata": {
      "needs_background": "light"
     },
     "output_type": "display_data"
    },
    {
     "data": {
      "image/png": "[encoded data removed]",
      "text/plain": [
       "<Figure size 432x288 with 2 Axes>"
      ]
     },
     "metadata": {
      "needs_background": "light"
     },
     "output_type": "display_data"
    }
   ],
   "source": [
    "print(\"Confusion matrix for TEST data\")\n",
    "skplt.metrics.plot_confusion_matrix(y_test, LR.predict(standardized_data_test))\n",
    "skplt.metrics.plot_confusion_matrix(y_test, LR.predict(standardized_data_test), normalize=True)"
   ]
  },
  {
   "cell_type": "markdown",
   "metadata": {},
   "source": [
    "### [4.3.2] Applying Logistic Regression with L2 regularization on AVG W2V"
   ]
  },
  {
   "cell_type": "code",
   "execution_count": 74,
   "metadata": {},
   "outputs": [
    {
     "name": "stdout",
     "output_type": "stream",
     "text": [
      "LogisticRegression(C=0.01, class_weight=None, dual=False, fit_intercept=True,\n",
      "          intercept_scaling=1, max_iter=100, multi_class='warn', n_jobs=-1,\n",
      "          penalty='l2', random_state=None, solver='warn', tol=0.0001,\n",
      "          verbose=0, warm_start=False)\n",
      "Training Accuracy: 0.9160005539300684\n",
      "Test Accuracy: 0.8075112817499952\n"
     ]
    },
    {
     "data": {
      "image/png": "[encoded data removed]",
      "text/plain": [
       "<Figure size 432x288 with 1 Axes>"
      ]
     },
     "metadata": {
      "needs_background": "light"
     },
     "output_type": "display_data"
    }
   ],
   "source": [
    "from sklearn.linear_model import LogisticRegression\n",
    "from sklearn.model_selection import GridSearchCV\n",
    "import warnings\n",
    "warnings.filterwarnings(\"ignore\")\n",
    "\n",
    "# define the parameter values that should be searched\n",
    "k_range = [10 ** x for x in range(-4,6)] \n",
    "param_grid = dict(C=k_range)\n",
    "\n",
    "# instantiate the grid\n",
    "LR = LogisticRegression(penalty= 'l2', n_jobs= -1)\n",
    "clf = GridSearchCV(LR, param_grid, cv=5,n_jobs= -1,scoring ='roc_auc')\n",
    "\n",
    "# fit the grid with data\n",
    "clf.fit(standardized_data_train, y_train_w2v)\n",
    "\n",
    "print(clf.best_estimator_)\n",
    "print(\"Training Accuracy:\", clf.score(standardized_data_train,y_train_w2v))\n",
    "print(\"Test Accuracy:\",clf.score(standardized_data_test,y_test))\n",
    "\n",
    "train_auc = clf.cv_results_['mean_train_score']\n",
    "train_auc_std= clf.cv_results_['std_train_score']\n",
    "cv_auc = clf.cv_results_['mean_test_score'] \n",
    "cv_auc_std= clf.cv_results_['std_test_score']\n",
    "\n",
    "# plot the results\n",
    "\n",
    "plt.plot(k_range, train_auc, label='Train AUC')\n",
    "# this code is copied from here: https://stackoverflow.com/a/48803361/4084039\n",
    "plt.gca().fill_between(k_range,train_auc - train_auc_std,train_auc + train_auc_std,alpha=0.2,color='darkblue')\n",
    "\n",
    "plt.plot(k_range, cv_auc, label='CV AUC')\n",
    "# this code is copied from here: https://stackoverflow.com/a/48803361/4084039\n",
    "plt.gca().fill_between(k_range,cv_auc - cv_auc_std,cv_auc + cv_auc_std,alpha=0.2,color='darkorange')\n",
    "\n",
    "plt.xlabel('K: hyperparameter')\n",
    "plt.ylabel('AUC')\n",
    "plt.title('ERROR PLOTS')\n",
    "plt.legend()\n",
    "\n",
    "plt.show()"
   ]
  },
  {
   "cell_type": "code",
   "execution_count": 75,
   "metadata": {},
   "outputs": [
    {
     "name": "stdout",
     "output_type": "stream",
     "text": [
      "{'C': 0.01}\n",
      "AUC score on train data:  0.9160005539300684\n",
      "AUC score on test data:  0.8075112817499952\n"
     ]
    },
    {
     "data": {
      "image/png": "[encoded data removed]",
      "text/plain": [
       "<Figure size 432x288 with 1 Axes>"
      ]
     },
     "metadata": {
      "needs_background": "light"
     },
     "output_type": "display_data"
    },
    {
     "name": "stdout",
     "output_type": "stream",
     "text": [
      "====================================================================================================\n",
      "Train confusion matrix\n",
      "[[59670  8086]\n",
      " [12595 55161]]\n",
      "Test confusion matrix\n",
      "[[ 2887   564]\n",
      " [ 6524 10025]]\n"
     ]
    }
   ],
   "source": [
    "from sklearn.metrics import roc_curve\n",
    "from sklearn.metrics import roc_auc_score\n",
    "\n",
    "# the best hyper parameter obtained \n",
    "print(clf.best_params_)\n",
    "optimal_C = clf.best_params_.get(\"C\")\n",
    "\n",
    "LR = LogisticRegression(C= optimal_C, penalty= 'l2', n_jobs= -1)\n",
    "LR.fit(standardized_data_train, y_train_w2v)\n",
    "\n",
    "y_pred_proba_train = LR.predict_proba(standardized_data_train)[:,1]\n",
    "y_pred_proba_test = LR.predict_proba(standardized_data_test)[:,1]\n",
    "train_fpr, train_tpr, thresholds = roc_curve(y_train_w2v, y_pred_proba_train)\n",
    "test_fpr, test_tpr, thresholds = roc_curve(y_test, y_pred_proba_test)\n",
    "\n",
    "print(\"AUC score on train data: \",roc_auc_score(y_train_w2v, y_pred_proba_train))\n",
    "print(\"AUC score on test data: \",roc_auc_score(y_test, y_pred_proba_test))\n",
    "\n",
    "plt.plot([0,1],[0,1],'k--')\n",
    "plt.plot(train_fpr,train_tpr, label=\"train AUC =\"+str(auc(train_fpr, train_tpr)))\n",
    "plt.plot(test_fpr,test_tpr, label=\"test AUC =\"+str(auc(test_fpr, test_tpr)))\n",
    "plt.xlabel('K: hyperparameter')\n",
    "plt.ylabel('AUC')\n",
    "plt.title('ERROR PLOTS')\n",
    "plt.legend()\n",
    "\n",
    "plt.show()\n",
    "\n",
    "print(\"=\"*100)\n",
    "\n",
    "from sklearn.metrics import confusion_matrix\n",
    "\n",
    "print(\"Train confusion matrix\")\n",
    "print(confusion_matrix(y_train_w2v, LR.predict(standardized_data_train)))\n",
    "print(\"Test confusion matrix\")\n",
    "print(confusion_matrix(y_test, LR.predict(standardized_data_test)))"
   ]
  },
  {
   "cell_type": "code",
   "execution_count": 76,
   "metadata": {},
   "outputs": [
    {
     "name": "stdout",
     "output_type": "stream",
     "text": [
      "Confusion matrix for TRAIN data\n"
     ]
    },
    {
     "data": {
      "text/plain": [
       "<matplotlib.axes._subplots.AxesSubplot at 0x7f436e23ab38>"
      ]
     },
     "execution_count": 76,
     "metadata": {},
     "output_type": "execute_result"
    },
    {
     "data": {
      "image/png": "[encoded data removed]",
      "text/plain": [
       "<Figure size 432x288 with 2 Axes>"
      ]
     },
     "metadata": {
      "needs_background": "light"
     },
     "output_type": "display_data"
    },
    {
     "data": {
      "image/png": "[encoded data removed]",
      "text/plain": [
       "<Figure size 432x288 with 2 Axes>"
      ]
     },
     "metadata": {
      "needs_background": "light"
     },
     "output_type": "display_data"
    }
   ],
   "source": [
    "import scikitplot as skplt\n",
    "\n",
    "print(\"Confusion matrix for TRAIN data\")\n",
    "skplt.metrics.plot_confusion_matrix(y_train_w2v, LR.predict(standardized_data_train))\n",
    "skplt.metrics.plot_confusion_matrix(y_train_w2v, LR.predict(standardized_data_train), normalize=True)"
   ]
  },
  {
   "cell_type": "code",
   "execution_count": 77,
   "metadata": {},
   "outputs": [
    {
     "name": "stdout",
     "output_type": "stream",
     "text": [
      "Confusion matrix for TEST data\n"
     ]
    },
    {
     "data": {
      "text/plain": [
       "<matplotlib.axes._subplots.AxesSubplot at 0x7f435fc7c9e8>"
      ]
     },
     "execution_count": 77,
     "metadata": {},
     "output_type": "execute_result"
    },
    {
     "data": {
      "image/png": "[encoded data removed]",
      "text/plain": [
       "<Figure size 432x288 with 2 Axes>"
      ]
     },
     "metadata": {
      "needs_background": "light"
     },
     "output_type": "display_data"
    },
    {
     "data": {
      "image/png": "[encoded data removed]",
      "text/plain": [
       "<Figure size 432x288 with 2 Axes>"
      ]
     },
     "metadata": {
      "needs_background": "light"
     },
     "output_type": "display_data"
    }
   ],
   "source": [
    "print(\"Confusion matrix for TEST data\")\n",
    "skplt.metrics.plot_confusion_matrix(y_test, LR.predict(standardized_data_test))\n",
    "skplt.metrics.plot_confusion_matrix(y_test, LR.predict(standardized_data_test), normalize=True)"
   ]
  },
  {
   "cell_type": "markdown",
   "metadata": {},
   "source": [
    "## [4.4] Logistic Regression on TFIDF W2V "
   ]
  },
  {
   "cell_type": "code",
   "execution_count": 42,
   "metadata": {},
   "outputs": [],
   "source": [
    "model = TfidfVectorizer()\n",
    "tf_idf_matrix_train = model.fit_transform(X_tr['CleanedText'])\n",
    "\n",
    "# we are converting a dictionary with word as a key, and the idf as a value\n",
    "dictionary_train = dict(zip(model.get_feature_names(), list(model.idf_)))"
   ]
  },
  {
   "cell_type": "code",
   "execution_count": 43,
   "metadata": {},
   "outputs": [],
   "source": [
    "tf_idf_matrix_test = model.transform(X_test['CleanedText'])\n",
    "\n",
    "# we are converting a dictionary with word as a key, and the idf as a value\n",
    "dictionary_test = dict(zip(model.get_feature_names(), list(model.idf_)))"
   ]
  },
  {
   "cell_type": "code",
   "execution_count": 44,
   "metadata": {},
   "outputs": [
    {
     "name": "stderr",
     "output_type": "stream",
     "text": [
      "100%|██████████| 80000/80000 [1:04:47<00:00, 20.58it/s]\n"
     ]
    }
   ],
   "source": [
    "# TF-IDF weighted Word2Vec\n",
    "tfidf_feat = model.get_feature_names() # tfidf words/col-names\n",
    "# final_tf_idf is the sparse matrix with row= sentence, col=word and cell_val = tfidf\n",
    "\n",
    "tfidf_sent_vectors_train = []; # the tfidf-w2v for each sentence/review is stored in this list\n",
    "row=0;\n",
    "for sent in tqdm(list_of_sent_train): # for each review/sentence \n",
    "    sent_vec = np.zeros(50) # as word vectors are of zero length\n",
    "    weight_sum =0; # num of words with a valid vector in the sentence/review\n",
    "    for word in sent: # for each word in a review/sentence\n",
    "        if word in w2v_words_train and word in tfidf_feat:\n",
    "            vec = w2v_model_train.wv[word]\n",
    "            #tf_idf = tf_idf_matrix[row, tfidf_feat.index(word)]\n",
    "            # to reduce the computation we are \n",
    "            # dictionary[word] = idf value of word in whole courpus\n",
    "            # sent.count(word) = tf valeus of word in this review\n",
    "            tf_idf_train = dictionary_train[word]*(sent.count(word)/len(sent))\n",
    "            sent_vec += (vec * tf_idf_train)\n",
    "            weight_sum += tf_idf_train\n",
    "    if weight_sum != 0:\n",
    "        sent_vec /= weight_sum\n",
    "    tfidf_sent_vectors_train.append(sent_vec)\n",
    "    row += 1"
   ]
  },
  {
   "cell_type": "code",
   "execution_count": 45,
   "metadata": {},
   "outputs": [
    {
     "name": "stdout",
     "output_type": "stream",
     "text": [
      "Resampled dataset shape Counter({0: 67849, 1: 67849})\n"
     ]
    }
   ],
   "source": [
    "# Balancing the train data\n",
    "from imblearn.over_sampling import BorderlineSMOTE \n",
    "from collections import Counter\n",
    "\n",
    "sm = BorderlineSMOTE(random_state=2)\n",
    "X_train_tfidf_w2v, y_train_tfidf_w2v = sm.fit_resample(tfidf_sent_vectors_train, y_tr.ravel())\n",
    "print('Resampled dataset shape %s' % Counter(y_train_tfidf_w2v))"
   ]
  },
  {
   "cell_type": "code",
   "execution_count": 46,
   "metadata": {},
   "outputs": [
    {
     "name": "stdout",
     "output_type": "stream",
     "text": [
      "Train data before upsampling:  [(0, 12151), (1, 67849)]\n",
      "Train data after upsampling :  [(0, 67849), (1, 67849)]\n"
     ]
    }
   ],
   "source": [
    "print(\"Train data before upsampling: \",sorted(Counter(y_tr).items()))\n",
    "print(\"Train data after upsampling : \", sorted(Counter(y_train_tfidf_w2v).items()))"
   ]
  },
  {
   "cell_type": "code",
   "execution_count": 47,
   "metadata": {},
   "outputs": [
    {
     "name": "stderr",
     "output_type": "stream",
     "text": [
      "100%|██████████| 20000/20000 [12:29<00:00, 26.68it/s]\n"
     ]
    }
   ],
   "source": [
    "# TF-IDF weighted Word2Vec\n",
    "tfidf_feat = model.get_feature_names() # tfidf words/col-names\n",
    "# final_tf_idf is the sparse matrix with row= sentence, col=word and cell_val = tfidf\n",
    "\n",
    "tfidf_sent_vectors_test = []; # the tfidf-w2v for each sentence/review is stored in this list\n",
    "row=0;\n",
    "for sent in tqdm(list_of_sent_test): # for each review/sentence \n",
    "    sent_vec = np.zeros(50) # as word vectors are of zero length\n",
    "    weight_sum =0; # num of words with a valid vector in the sentence/review\n",
    "    for word in sent: # for each word in a review/sentence\n",
    "        if word in w2v_words_test and word in tfidf_feat:\n",
    "            vec = w2v_model_test.wv[word]\n",
    "            #tf_idf = tf_idf_matrix[row, tfidf_feat.index(word)]\n",
    "            # to reduce the computation we are \n",
    "            # dictionary[word] = idf value of word in whole courpus\n",
    "            # sent.count(word) = tf valeus of word in this review\n",
    "            tf_idf_test = dictionary_test[word]*(sent.count(word)/len(sent))\n",
    "            sent_vec += (vec * tf_idf_test)\n",
    "            weight_sum += tf_idf_test\n",
    "    if weight_sum != 0:\n",
    "        sent_vec /= weight_sum\n",
    "    tfidf_sent_vectors_test.append(sent_vec)\n",
    "    row += 1"
   ]
  },
  {
   "cell_type": "code",
   "execution_count": 48,
   "metadata": {},
   "outputs": [],
   "source": [
    "# Data-preprocessing: Standardizing both train and test data\n",
    "\n",
    "from sklearn.preprocessing import StandardScaler\n",
    "standardized_data_train = StandardScaler().fit_transform(X_train_tfidf_w2v)\n",
    "standardized_data_test = StandardScaler().fit_transform(tfidf_sent_vectors_test)"
   ]
  },
  {
   "cell_type": "markdown",
   "metadata": {},
   "source": [
    "### [4.4.1] Applying Logistic Regression with L1 regularization on TFIDF W2V "
   ]
  },
  {
   "cell_type": "code",
   "execution_count": 50,
   "metadata": {},
   "outputs": [
    {
     "name": "stdout",
     "output_type": "stream",
     "text": [
      "LogisticRegression(C=0.1, class_weight=None, dual=False, fit_intercept=True,\n",
      "          intercept_scaling=1, max_iter=100, multi_class='warn', n_jobs=-1,\n",
      "          penalty='l1', random_state=None, solver='warn', tol=0.0001,\n",
      "          verbose=0, warm_start=False)\n",
      "Training Accuracy: 0.891501389470368\n",
      "Test Accuracy: 0.7456099467891538\n"
     ]
    },
    {
     "data": {
      "image/png": "[encoded data removed]",
      "text/plain": [
       "<Figure size 432x288 with 1 Axes>"
      ]
     },
     "metadata": {
      "needs_background": "light"
     },
     "output_type": "display_data"
    }
   ],
   "source": [
    "from sklearn.linear_model import LogisticRegression\n",
    "from sklearn.model_selection import GridSearchCV\n",
    "import warnings\n",
    "warnings.filterwarnings(\"ignore\")\n",
    "\n",
    "# define the parameter values that should be searched\n",
    "k_range = [10 ** x for x in range(-4,6)] \n",
    "param_grid = dict(C=k_range)\n",
    "\n",
    "# instantiate the grid\n",
    "LR = LogisticRegression(penalty= 'l1', n_jobs= -1)\n",
    "clf = GridSearchCV(LR, param_grid, cv=5,n_jobs= -1,scoring ='roc_auc')\n",
    "\n",
    "# fit the grid with data\n",
    "clf.fit(standardized_data_train, y_train_tfidf_w2v)\n",
    "\n",
    "print(clf.best_estimator_)\n",
    "print(\"Training Accuracy:\", clf.score(standardized_data_train,y_train_tfidf_w2v))\n",
    "print(\"Test Accuracy:\",clf.score(standardized_data_test,y_test))\n",
    "\n",
    "train_auc = clf.cv_results_['mean_train_score']\n",
    "train_auc_std= clf.cv_results_['std_train_score']\n",
    "cv_auc = clf.cv_results_['mean_test_score'] \n",
    "cv_auc_std= clf.cv_results_['std_test_score']\n",
    "\n",
    "# plot the results\n",
    "\n",
    "plt.plot(k_range, train_auc, label='Train AUC')\n",
    "# this code is copied from here: https://stackoverflow.com/a/48803361/4084039\n",
    "plt.gca().fill_between(k_range,train_auc - train_auc_std,train_auc + train_auc_std,alpha=0.2,color='darkblue')\n",
    "\n",
    "plt.plot(k_range, cv_auc, label='CV AUC')\n",
    "# this code is copied from here: https://stackoverflow.com/a/48803361/4084039\n",
    "plt.gca().fill_between(k_range,cv_auc - cv_auc_std,cv_auc + cv_auc_std,alpha=0.2,color='darkorange')\n",
    "\n",
    "plt.xlabel('K: hyperparameter')\n",
    "plt.ylabel('AUC')\n",
    "plt.title('ERROR PLOTS')\n",
    "plt.legend()\n",
    "\n",
    "plt.show()"
   ]
  },
  {
   "cell_type": "code",
   "execution_count": 51,
   "metadata": {},
   "outputs": [
    {
     "name": "stdout",
     "output_type": "stream",
     "text": [
      "{'C': 0.1}\n",
      "AUC score on train data:  0.891501788298491\n",
      "AUC score on test data:  0.7456128474001833\n"
     ]
    },
    {
     "data": {
      "image/png": "[encoded data removed]",
      "text/plain": [
       "<Figure size 432x288 with 1 Axes>"
      ]
     },
     "metadata": {
      "needs_background": "light"
     },
     "output_type": "display_data"
    },
    {
     "name": "stdout",
     "output_type": "stream",
     "text": [
      "====================================================================================================\n",
      "Train confusion matrix\n",
      "[[57706 10143]\n",
      " [14288 53561]]\n",
      "Test confusion matrix\n",
      "[[2727  786]\n",
      " [6527 9960]]\n"
     ]
    }
   ],
   "source": [
    "from sklearn.metrics import roc_curve\n",
    "from sklearn.metrics import roc_auc_score\n",
    "\n",
    "# the best hyper parameter obtained \n",
    "print(clf.best_params_)\n",
    "optimal_C = clf.best_params_.get(\"C\")\n",
    "\n",
    "LR = LogisticRegression(C= optimal_C, penalty= 'l1', n_jobs= -1)\n",
    "LR.fit(standardized_data_train, y_train_tfidf_w2v)\n",
    "\n",
    "y_pred_proba_train = LR.predict_proba(standardized_data_train)[:,1]\n",
    "y_pred_proba_test = LR.predict_proba(standardized_data_test)[:,1]\n",
    "train_fpr, train_tpr, thresholds = roc_curve(y_train_tfidf_w2v, y_pred_proba_train)\n",
    "test_fpr, test_tpr, thresholds = roc_curve(y_test, y_pred_proba_test)\n",
    "\n",
    "print(\"AUC score on train data: \",roc_auc_score(y_train_tfidf_w2v, y_pred_proba_train))\n",
    "print(\"AUC score on test data: \",roc_auc_score(y_test, y_pred_proba_test))\n",
    "\n",
    "plt.plot([0,1],[0,1],'k--')\n",
    "plt.plot(train_fpr,train_tpr, label=\"train AUC =\"+str(auc(train_fpr, train_tpr)))\n",
    "plt.plot(test_fpr,test_tpr, label=\"test AUC =\"+str(auc(test_fpr, test_tpr)))\n",
    "plt.xlabel('K: hyperparameter')\n",
    "plt.ylabel('AUC')\n",
    "plt.title('ERROR PLOTS')\n",
    "plt.legend()\n",
    "\n",
    "plt.show()\n",
    "\n",
    "print(\"=\"*100)\n",
    "\n",
    "from sklearn.metrics import confusion_matrix\n",
    "\n",
    "print(\"Train confusion matrix\")\n",
    "print(confusion_matrix(y_train_tfidf_w2v, LR.predict(standardized_data_train)))\n",
    "print(\"Test confusion matrix\")\n",
    "print(confusion_matrix(y_test, LR.predict(standardized_data_test)))"
   ]
  },
  {
   "cell_type": "code",
   "execution_count": 52,
   "metadata": {},
   "outputs": [
    {
     "name": "stdout",
     "output_type": "stream",
     "text": [
      "Confusion matrix for TRAIN data\n"
     ]
    },
    {
     "data": {
      "text/plain": [
       "<matplotlib.axes._subplots.AxesSubplot at 0x7fe52cc53668>"
      ]
     },
     "execution_count": 52,
     "metadata": {},
     "output_type": "execute_result"
    },
    {
     "data": {
      "image/png": "[encoded data removed]",
      "text/plain": [
       "<Figure size 432x288 with 2 Axes>"
      ]
     },
     "metadata": {
      "needs_background": "light"
     },
     "output_type": "display_data"
    },
    {
     "data": {
      "image/png": "[encoded data removed]",
      "text/plain": [
       "<Figure size 432x288 with 2 Axes>"
      ]
     },
     "metadata": {
      "needs_background": "light"
     },
     "output_type": "display_data"
    }
   ],
   "source": [
    "import scikitplot as skplt\n",
    "\n",
    "print(\"Confusion matrix for TRAIN data\")\n",
    "skplt.metrics.plot_confusion_matrix(y_train_tfidf_w2v, LR.predict(standardized_data_train))\n",
    "skplt.metrics.plot_confusion_matrix(y_train_tfidf_w2v, LR.predict(standardized_data_train), normalize=True)"
   ]
  },
  {
   "cell_type": "code",
   "execution_count": 53,
   "metadata": {},
   "outputs": [
    {
     "name": "stdout",
     "output_type": "stream",
     "text": [
      "Confusion matrix for TEST data\n"
     ]
    },
    {
     "data": {
      "text/plain": [
       "<matplotlib.axes._subplots.AxesSubplot at 0x7fe52cc38da0>"
      ]
     },
     "execution_count": 53,
     "metadata": {},
     "output_type": "execute_result"
    },
    {
     "data": {
      "image/png": "[encoded data removed]",
      "text/plain": [
       "<Figure size 432x288 with 2 Axes>"
      ]
     },
     "metadata": {
      "needs_background": "light"
     },
     "output_type": "display_data"
    },
    {
     "data": {
      "image/png": "[encoded data removed]",
      "text/plain": [
       "<Figure size 432x288 with 2 Axes>"
      ]
     },
     "metadata": {
      "needs_background": "light"
     },
     "output_type": "display_data"
    }
   ],
   "source": [
    "print(\"Confusion matrix for TEST data\")\n",
    "skplt.metrics.plot_confusion_matrix(y_test, LR.predict(standardized_data_test))\n",
    "skplt.metrics.plot_confusion_matrix(y_test, LR.predict(standardized_data_test), normalize=True)"
   ]
  },
  {
   "cell_type": "markdown",
   "metadata": {},
   "source": [
    "### [4.4.2] Applying Logistic Regression with L2 regularization on TFIDF W2V"
   ]
  },
  {
   "cell_type": "code",
   "execution_count": 54,
   "metadata": {},
   "outputs": [
    {
     "name": "stdout",
     "output_type": "stream",
     "text": [
      "LogisticRegression(C=0.01, class_weight=None, dual=False, fit_intercept=True,\n",
      "          intercept_scaling=1, max_iter=100, multi_class='warn', n_jobs=-1,\n",
      "          penalty='l2', random_state=None, solver='warn', tol=0.0001,\n",
      "          verbose=0, warm_start=False)\n",
      "Training Accuracy: 0.8915019097281865\n",
      "Test Accuracy: 0.7467124034323138\n"
     ]
    },
    {
     "data": {
      "image/png": "[encoded data removed]",
      "text/plain": [
       "<Figure size 432x288 with 1 Axes>"
      ]
     },
     "metadata": {
      "needs_background": "light"
     },
     "output_type": "display_data"
    }
   ],
   "source": [
    "from sklearn.linear_model import LogisticRegression\n",
    "from sklearn.model_selection import GridSearchCV\n",
    "import warnings\n",
    "warnings.filterwarnings(\"ignore\")\n",
    "\n",
    "# define the parameter values that should be searched\n",
    "k_range = [10 ** x for x in range(-4,6)] \n",
    "param_grid = dict(C=k_range)\n",
    "\n",
    "# instantiate the grid\n",
    "LR = LogisticRegression(penalty= 'l2', n_jobs= -1)\n",
    "clf = GridSearchCV(LR, param_grid, cv=5,n_jobs= -1,scoring ='roc_auc')\n",
    "\n",
    "# fit the grid with data\n",
    "clf.fit(standardized_data_train, y_train_tfidf_w2v)\n",
    "\n",
    "print(clf.best_estimator_)\n",
    "print(\"Training Accuracy:\", clf.score(standardized_data_train,y_train_tfidf_w2v))\n",
    "print(\"Test Accuracy:\",clf.score(standardized_data_test,y_test))\n",
    "\n",
    "train_auc = clf.cv_results_['mean_train_score']\n",
    "train_auc_std= clf.cv_results_['std_train_score']\n",
    "cv_auc = clf.cv_results_['mean_test_score'] \n",
    "cv_auc_std= clf.cv_results_['std_test_score']\n",
    "\n",
    "# plot the results\n",
    "\n",
    "plt.plot(k_range, train_auc, label='Train AUC')\n",
    "# this code is copied from here: https://stackoverflow.com/a/48803361/4084039\n",
    "plt.gca().fill_between(k_range,train_auc - train_auc_std,train_auc + train_auc_std,alpha=0.2,color='darkblue')\n",
    "\n",
    "plt.plot(k_range, cv_auc, label='CV AUC')\n",
    "# this code is copied from here: https://stackoverflow.com/a/48803361/4084039\n",
    "plt.gca().fill_between(k_range,cv_auc - cv_auc_std,cv_auc + cv_auc_std,alpha=0.2,color='darkorange')\n",
    "\n",
    "plt.xlabel('K: hyperparameter')\n",
    "plt.ylabel('AUC')\n",
    "plt.title('ERROR PLOTS')\n",
    "plt.legend()\n",
    "\n",
    "plt.show()"
   ]
  },
  {
   "cell_type": "code",
   "execution_count": 55,
   "metadata": {},
   "outputs": [
    {
     "name": "stdout",
     "output_type": "stream",
     "text": [
      "{'C': 0.01}\n",
      "AUC score on train data:  0.8915019097281865\n",
      "AUC score on test data:  0.7467124034323138\n"
     ]
    },
    {
     "data": {
      "image/png": "[encoded data removed]",
      "text/plain": [
       "<Figure size 432x288 with 1 Axes>"
      ]
     },
     "metadata": {
      "needs_background": "light"
     },
     "output_type": "display_data"
    },
    {
     "name": "stdout",
     "output_type": "stream",
     "text": [
      "====================================================================================================\n",
      "Train confusion matrix\n",
      "[[57747 10102]\n",
      " [14332 53517]]\n",
      "Test confusion matrix\n",
      "[[2738  775]\n",
      " [6513 9974]]\n"
     ]
    }
   ],
   "source": [
    "from sklearn.metrics import roc_curve\n",
    "from sklearn.metrics import roc_auc_score\n",
    "\n",
    "# the best hyper parameter obtained \n",
    "print(clf.best_params_)\n",
    "optimal_C = clf.best_params_.get(\"C\")\n",
    "\n",
    "LR = LogisticRegression(C= optimal_C, penalty= 'l2', n_jobs= -1)\n",
    "LR.fit(standardized_data_train, y_train_tfidf_w2v)\n",
    "\n",
    "y_pred_proba_train = LR.predict_proba(standardized_data_train)[:,1]\n",
    "y_pred_proba_test = LR.predict_proba(standardized_data_test)[:,1]\n",
    "train_fpr, train_tpr, thresholds = roc_curve(y_train_tfidf_w2v, y_pred_proba_train)\n",
    "test_fpr, test_tpr, thresholds = roc_curve(y_test, y_pred_proba_test)\n",
    "\n",
    "print(\"AUC score on train data: \",roc_auc_score(y_train_tfidf_w2v, y_pred_proba_train))\n",
    "print(\"AUC score on test data: \",roc_auc_score(y_test, y_pred_proba_test))\n",
    "\n",
    "plt.plot([0,1],[0,1],'k--')\n",
    "plt.plot(train_fpr,train_tpr, label=\"train AUC =\"+str(auc(train_fpr, train_tpr)))\n",
    "plt.plot(test_fpr,test_tpr, label=\"test AUC =\"+str(auc(test_fpr, test_tpr)))\n",
    "plt.xlabel('K: hyperparameter')\n",
    "plt.ylabel('AUC')\n",
    "plt.title('ERROR PLOTS')\n",
    "plt.legend()\n",
    "\n",
    "plt.show()\n",
    "\n",
    "print(\"=\"*100)\n",
    "\n",
    "from sklearn.metrics import confusion_matrix\n",
    "\n",
    "print(\"Train confusion matrix\")\n",
    "print(confusion_matrix(y_train_tfidf_w2v, LR.predict(standardized_data_train)))\n",
    "print(\"Test confusion matrix\")\n",
    "print(confusion_matrix(y_test, LR.predict(standardized_data_test)))"
   ]
  },
  {
   "cell_type": "code",
   "execution_count": 56,
   "metadata": {},
   "outputs": [
    {
     "name": "stdout",
     "output_type": "stream",
     "text": [
      "Confusion matrix for TRAIN data\n"
     ]
    },
    {
     "data": {
      "text/plain": [
       "<matplotlib.axes._subplots.AxesSubplot at 0x7fe52cc8dc18>"
      ]
     },
     "execution_count": 56,
     "metadata": {},
     "output_type": "execute_result"
    },
    {
     "data": {
      "image/png": "[encoded data removed]",
      "text/plain": [
       "<Figure size 432x288 with 2 Axes>"
      ]
     },
     "metadata": {
      "needs_background": "light"
     },
     "output_type": "display_data"
    },
    {
     "data": {
      "image/png": "[encoded data removed]",
      "text/plain": [
       "<Figure size 432x288 with 2 Axes>"
      ]
     },
     "metadata": {
      "needs_background": "light"
     },
     "output_type": "display_data"
    }
   ],
   "source": [
    "import scikitplot as skplt\n",
    "\n",
    "print(\"Confusion matrix for TRAIN data\")\n",
    "skplt.metrics.plot_confusion_matrix(y_train_tfidf_w2v, LR.predict(standardized_data_train))\n",
    "skplt.metrics.plot_confusion_matrix(y_train_tfidf_w2v, LR.predict(standardized_data_train), normalize=True)"
   ]
  },
  {
   "cell_type": "code",
   "execution_count": 57,
   "metadata": {},
   "outputs": [
    {
     "name": "stdout",
     "output_type": "stream",
     "text": [
      "Confusion matrix for TEST data\n"
     ]
    },
    {
     "data": {
      "text/plain": [
       "<matplotlib.axes._subplots.AxesSubplot at 0x7fe52cc1fe80>"
      ]
     },
     "execution_count": 57,
     "metadata": {},
     "output_type": "execute_result"
    },
    {
     "data": {
      "image/png": "[encoded data removed]",
      "text/plain": [
       "<Figure size 432x288 with 2 Axes>"
      ]
     },
     "metadata": {
      "needs_background": "light"
     },
     "output_type": "display_data"
    },
    {
     "data": {
      "image/png": "[encoded data removed]",
      "text/plain": [
       "<Figure size 432x288 with 2 Axes>"
      ]
     },
     "metadata": {
      "needs_background": "light"
     },
     "output_type": "display_data"
    }
   ],
   "source": [
    "print(\"Confusion matrix for TEST data\")\n",
    "skplt.metrics.plot_confusion_matrix(y_test, LR.predict(standardized_data_test))\n",
    "skplt.metrics.plot_confusion_matrix(y_test, LR.predict(standardized_data_test), normalize=True)"
   ]
  },
  {
   "cell_type": "markdown",
   "metadata": {},
   "source": [
    "# [5] Conclusions"
   ]
  },
  {
   "cell_type": "code",
   "execution_count": 58,
   "metadata": {},
   "outputs": [
    {
     "name": "stdout",
     "output_type": "stream",
     "text": [
      "+------------+----------------+-----------------+-----------+----------+\n",
      "| Vectorizer | Regularization | Hyper parameter | Train AUC | Test AUC |\n",
      "+------------+----------------+-----------------+-----------+----------+\n",
      "|    BOW     |       L1       |        10       |   0.999   |  0.946   |\n",
      "|   TFIDF    |       L1       |        1        |   0.999   |  0.953   |\n",
      "|    W2V     |       L1       |       0.1       |   0.916   |  0.806   |\n",
      "|  TFIDFW2V  |       L1       |       0.1       |   0.892   |  0.746   |\n",
      "|    BOW     |       L2       |      0.0001     |   0.999   |  0.924   |\n",
      "|   TFIDF    |       L2       |      0.0001     |   0.999   |  0.935   |\n",
      "|    W2V     |       L2       |       0.01      |   0.916   |  0.808   |\n",
      "|  TFIDFW2V  |       L2       |       0.01      |   0.892   |  0.747   |\n",
      "+------------+----------------+-----------------+-----------+----------+\n"
     ]
    }
   ],
   "source": [
    "from prettytable import PrettyTable\n",
    "    \n",
    "x = PrettyTable()\n",
    "\n",
    "x.field_names = [\"Vectorizer\", \"Regularization\", \"Hyper parameter\", \"Train AUC\", \"Test AUC\"]\n",
    "\n",
    "x.add_row([\"BOW\", \"L1\", 10, 0.999, 0.946])\n",
    "x.add_row([\"TFIDF\", \"L1\", 1, 0.999, 0.953])\n",
    "x.add_row([\"W2V\", \"L1\",0.1,0.916,0.806])\n",
    "x.add_row([\"TFIDFW2V\", \"L1\",0.1,0.892,0.746 ])\n",
    "x.add_row([\"BOW\", \"L2\", 0.0001, 0.999, 0.924])\n",
    "x.add_row([\"TFIDF\", \"L2\",  0.0001, 0.999, 0.935])\n",
    "x.add_row([\"W2V\", \"L2\",0.01,0.916,0.808 ])\n",
    "x.add_row([\"TFIDFW2V\", \"L2\",0.01,0.892,0.747 ])\n",
    "\n",
    "\n",
    "print(x)"
   ]
  }
 ],
 "metadata": {
  "kernelspec": {
   "display_name": "Python 3",
   "language": "python",
   "name": "python3"
  },
  "language_info": {
   "codemirror_mode": {
    "name": "ipython",
    "version": 3
   },
   "file_extension": ".py",
   "mimetype": "text/x-python",
   "name": "python",
   "nbconvert_exporter": "python",
   "pygments_lexer": "ipython3",
   "version": "3.6.5"
  }
 },
 "nbformat": 4,
 "nbformat_minor": 2
}
